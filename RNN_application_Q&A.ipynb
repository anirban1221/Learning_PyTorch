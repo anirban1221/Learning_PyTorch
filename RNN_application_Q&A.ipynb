{
  "nbformat": 4,
  "nbformat_minor": 0,
  "metadata": {
    "colab": {
      "provenance": [],
      "authorship_tag": "ABX9TyPghzP/HcblVVPPm833yY4s",
      "include_colab_link": true
    },
    "kernelspec": {
      "name": "python3",
      "display_name": "Python 3"
    },
    "language_info": {
      "name": "python"
    }
  },
  "cells": [
    {
      "cell_type": "markdown",
      "metadata": {
        "id": "view-in-github",
        "colab_type": "text"
      },
      "source": [
        "<a href=\"https://colab.research.google.com/github/anirban1221/Learning_PyTorch/blob/main/RNN_application_Q%26A.ipynb\" target=\"_parent\"><img src=\"https://colab.research.google.com/assets/colab-badge.svg\" alt=\"Open In Colab\"/></a>"
      ]
    },
    {
      "cell_type": "code",
      "execution_count": 16,
      "metadata": {
        "colab": {
          "base_uri": "https://localhost:8080/",
          "height": 206
        },
        "id": "7lzqyUP6PqZt",
        "outputId": "f0c9af26-ef17-4ccf-84e4-43d18041615b"
      },
      "outputs": [
        {
          "output_type": "execute_result",
          "data": {
            "text/plain": [
              "                                          question      answer\n",
              "0                   What is the capital of France?       Paris\n",
              "1                  What is the capital of Germany?      Berlin\n",
              "2               Who wrote 'To Kill a Mockingbird'?  Harper-Lee\n",
              "3  What is the largest planet in our solar system?     Jupiter\n",
              "4   What is the boiling point of water in Celsius?         100"
            ],
            "text/html": [
              "\n",
              "  <div id=\"df-f8fcec78-9c7e-4665-a41f-07d33babcd85\" class=\"colab-df-container\">\n",
              "    <div>\n",
              "<style scoped>\n",
              "    .dataframe tbody tr th:only-of-type {\n",
              "        vertical-align: middle;\n",
              "    }\n",
              "\n",
              "    .dataframe tbody tr th {\n",
              "        vertical-align: top;\n",
              "    }\n",
              "\n",
              "    .dataframe thead th {\n",
              "        text-align: right;\n",
              "    }\n",
              "</style>\n",
              "<table border=\"1\" class=\"dataframe\">\n",
              "  <thead>\n",
              "    <tr style=\"text-align: right;\">\n",
              "      <th></th>\n",
              "      <th>question</th>\n",
              "      <th>answer</th>\n",
              "    </tr>\n",
              "  </thead>\n",
              "  <tbody>\n",
              "    <tr>\n",
              "      <th>0</th>\n",
              "      <td>What is the capital of France?</td>\n",
              "      <td>Paris</td>\n",
              "    </tr>\n",
              "    <tr>\n",
              "      <th>1</th>\n",
              "      <td>What is the capital of Germany?</td>\n",
              "      <td>Berlin</td>\n",
              "    </tr>\n",
              "    <tr>\n",
              "      <th>2</th>\n",
              "      <td>Who wrote 'To Kill a Mockingbird'?</td>\n",
              "      <td>Harper-Lee</td>\n",
              "    </tr>\n",
              "    <tr>\n",
              "      <th>3</th>\n",
              "      <td>What is the largest planet in our solar system?</td>\n",
              "      <td>Jupiter</td>\n",
              "    </tr>\n",
              "    <tr>\n",
              "      <th>4</th>\n",
              "      <td>What is the boiling point of water in Celsius?</td>\n",
              "      <td>100</td>\n",
              "    </tr>\n",
              "  </tbody>\n",
              "</table>\n",
              "</div>\n",
              "    <div class=\"colab-df-buttons\">\n",
              "\n",
              "  <div class=\"colab-df-container\">\n",
              "    <button class=\"colab-df-convert\" onclick=\"convertToInteractive('df-f8fcec78-9c7e-4665-a41f-07d33babcd85')\"\n",
              "            title=\"Convert this dataframe to an interactive table.\"\n",
              "            style=\"display:none;\">\n",
              "\n",
              "  <svg xmlns=\"http://www.w3.org/2000/svg\" height=\"24px\" viewBox=\"0 -960 960 960\">\n",
              "    <path d=\"M120-120v-720h720v720H120Zm60-500h600v-160H180v160Zm220 220h160v-160H400v160Zm0 220h160v-160H400v160ZM180-400h160v-160H180v160Zm440 0h160v-160H620v160ZM180-180h160v-160H180v160Zm440 0h160v-160H620v160Z\"/>\n",
              "  </svg>\n",
              "    </button>\n",
              "\n",
              "  <style>\n",
              "    .colab-df-container {\n",
              "      display:flex;\n",
              "      gap: 12px;\n",
              "    }\n",
              "\n",
              "    .colab-df-convert {\n",
              "      background-color: #E8F0FE;\n",
              "      border: none;\n",
              "      border-radius: 50%;\n",
              "      cursor: pointer;\n",
              "      display: none;\n",
              "      fill: #1967D2;\n",
              "      height: 32px;\n",
              "      padding: 0 0 0 0;\n",
              "      width: 32px;\n",
              "    }\n",
              "\n",
              "    .colab-df-convert:hover {\n",
              "      background-color: #E2EBFA;\n",
              "      box-shadow: 0px 1px 2px rgba(60, 64, 67, 0.3), 0px 1px 3px 1px rgba(60, 64, 67, 0.15);\n",
              "      fill: #174EA6;\n",
              "    }\n",
              "\n",
              "    .colab-df-buttons div {\n",
              "      margin-bottom: 4px;\n",
              "    }\n",
              "\n",
              "    [theme=dark] .colab-df-convert {\n",
              "      background-color: #3B4455;\n",
              "      fill: #D2E3FC;\n",
              "    }\n",
              "\n",
              "    [theme=dark] .colab-df-convert:hover {\n",
              "      background-color: #434B5C;\n",
              "      box-shadow: 0px 1px 3px 1px rgba(0, 0, 0, 0.15);\n",
              "      filter: drop-shadow(0px 1px 2px rgba(0, 0, 0, 0.3));\n",
              "      fill: #FFFFFF;\n",
              "    }\n",
              "  </style>\n",
              "\n",
              "    <script>\n",
              "      const buttonEl =\n",
              "        document.querySelector('#df-f8fcec78-9c7e-4665-a41f-07d33babcd85 button.colab-df-convert');\n",
              "      buttonEl.style.display =\n",
              "        google.colab.kernel.accessAllowed ? 'block' : 'none';\n",
              "\n",
              "      async function convertToInteractive(key) {\n",
              "        const element = document.querySelector('#df-f8fcec78-9c7e-4665-a41f-07d33babcd85');\n",
              "        const dataTable =\n",
              "          await google.colab.kernel.invokeFunction('convertToInteractive',\n",
              "                                                    [key], {});\n",
              "        if (!dataTable) return;\n",
              "\n",
              "        const docLinkHtml = 'Like what you see? Visit the ' +\n",
              "          '<a target=\"_blank\" href=https://colab.research.google.com/notebooks/data_table.ipynb>data table notebook</a>'\n",
              "          + ' to learn more about interactive tables.';\n",
              "        element.innerHTML = '';\n",
              "        dataTable['output_type'] = 'display_data';\n",
              "        await google.colab.output.renderOutput(dataTable, element);\n",
              "        const docLink = document.createElement('div');\n",
              "        docLink.innerHTML = docLinkHtml;\n",
              "        element.appendChild(docLink);\n",
              "      }\n",
              "    </script>\n",
              "  </div>\n",
              "\n",
              "\n",
              "    <div id=\"df-fe760e15-98c9-48b3-8e62-a68620b29201\">\n",
              "      <button class=\"colab-df-quickchart\" onclick=\"quickchart('df-fe760e15-98c9-48b3-8e62-a68620b29201')\"\n",
              "                title=\"Suggest charts\"\n",
              "                style=\"display:none;\">\n",
              "\n",
              "<svg xmlns=\"http://www.w3.org/2000/svg\" height=\"24px\"viewBox=\"0 0 24 24\"\n",
              "     width=\"24px\">\n",
              "    <g>\n",
              "        <path d=\"M19 3H5c-1.1 0-2 .9-2 2v14c0 1.1.9 2 2 2h14c1.1 0 2-.9 2-2V5c0-1.1-.9-2-2-2zM9 17H7v-7h2v7zm4 0h-2V7h2v10zm4 0h-2v-4h2v4z\"/>\n",
              "    </g>\n",
              "</svg>\n",
              "      </button>\n",
              "\n",
              "<style>\n",
              "  .colab-df-quickchart {\n",
              "      --bg-color: #E8F0FE;\n",
              "      --fill-color: #1967D2;\n",
              "      --hover-bg-color: #E2EBFA;\n",
              "      --hover-fill-color: #174EA6;\n",
              "      --disabled-fill-color: #AAA;\n",
              "      --disabled-bg-color: #DDD;\n",
              "  }\n",
              "\n",
              "  [theme=dark] .colab-df-quickchart {\n",
              "      --bg-color: #3B4455;\n",
              "      --fill-color: #D2E3FC;\n",
              "      --hover-bg-color: #434B5C;\n",
              "      --hover-fill-color: #FFFFFF;\n",
              "      --disabled-bg-color: #3B4455;\n",
              "      --disabled-fill-color: #666;\n",
              "  }\n",
              "\n",
              "  .colab-df-quickchart {\n",
              "    background-color: var(--bg-color);\n",
              "    border: none;\n",
              "    border-radius: 50%;\n",
              "    cursor: pointer;\n",
              "    display: none;\n",
              "    fill: var(--fill-color);\n",
              "    height: 32px;\n",
              "    padding: 0;\n",
              "    width: 32px;\n",
              "  }\n",
              "\n",
              "  .colab-df-quickchart:hover {\n",
              "    background-color: var(--hover-bg-color);\n",
              "    box-shadow: 0 1px 2px rgba(60, 64, 67, 0.3), 0 1px 3px 1px rgba(60, 64, 67, 0.15);\n",
              "    fill: var(--button-hover-fill-color);\n",
              "  }\n",
              "\n",
              "  .colab-df-quickchart-complete:disabled,\n",
              "  .colab-df-quickchart-complete:disabled:hover {\n",
              "    background-color: var(--disabled-bg-color);\n",
              "    fill: var(--disabled-fill-color);\n",
              "    box-shadow: none;\n",
              "  }\n",
              "\n",
              "  .colab-df-spinner {\n",
              "    border: 2px solid var(--fill-color);\n",
              "    border-color: transparent;\n",
              "    border-bottom-color: var(--fill-color);\n",
              "    animation:\n",
              "      spin 1s steps(1) infinite;\n",
              "  }\n",
              "\n",
              "  @keyframes spin {\n",
              "    0% {\n",
              "      border-color: transparent;\n",
              "      border-bottom-color: var(--fill-color);\n",
              "      border-left-color: var(--fill-color);\n",
              "    }\n",
              "    20% {\n",
              "      border-color: transparent;\n",
              "      border-left-color: var(--fill-color);\n",
              "      border-top-color: var(--fill-color);\n",
              "    }\n",
              "    30% {\n",
              "      border-color: transparent;\n",
              "      border-left-color: var(--fill-color);\n",
              "      border-top-color: var(--fill-color);\n",
              "      border-right-color: var(--fill-color);\n",
              "    }\n",
              "    40% {\n",
              "      border-color: transparent;\n",
              "      border-right-color: var(--fill-color);\n",
              "      border-top-color: var(--fill-color);\n",
              "    }\n",
              "    60% {\n",
              "      border-color: transparent;\n",
              "      border-right-color: var(--fill-color);\n",
              "    }\n",
              "    80% {\n",
              "      border-color: transparent;\n",
              "      border-right-color: var(--fill-color);\n",
              "      border-bottom-color: var(--fill-color);\n",
              "    }\n",
              "    90% {\n",
              "      border-color: transparent;\n",
              "      border-bottom-color: var(--fill-color);\n",
              "    }\n",
              "  }\n",
              "</style>\n",
              "\n",
              "      <script>\n",
              "        async function quickchart(key) {\n",
              "          const quickchartButtonEl =\n",
              "            document.querySelector('#' + key + ' button');\n",
              "          quickchartButtonEl.disabled = true;  // To prevent multiple clicks.\n",
              "          quickchartButtonEl.classList.add('colab-df-spinner');\n",
              "          try {\n",
              "            const charts = await google.colab.kernel.invokeFunction(\n",
              "                'suggestCharts', [key], {});\n",
              "          } catch (error) {\n",
              "            console.error('Error during call to suggestCharts:', error);\n",
              "          }\n",
              "          quickchartButtonEl.classList.remove('colab-df-spinner');\n",
              "          quickchartButtonEl.classList.add('colab-df-quickchart-complete');\n",
              "        }\n",
              "        (() => {\n",
              "          let quickchartButtonEl =\n",
              "            document.querySelector('#df-fe760e15-98c9-48b3-8e62-a68620b29201 button');\n",
              "          quickchartButtonEl.style.display =\n",
              "            google.colab.kernel.accessAllowed ? 'block' : 'none';\n",
              "        })();\n",
              "      </script>\n",
              "    </div>\n",
              "\n",
              "    </div>\n",
              "  </div>\n"
            ],
            "application/vnd.google.colaboratory.intrinsic+json": {
              "type": "dataframe",
              "variable_name": "df",
              "summary": "{\n  \"name\": \"df\",\n  \"rows\": 90,\n  \"fields\": [\n    {\n      \"column\": \"question\",\n      \"properties\": {\n        \"dtype\": \"string\",\n        \"num_unique_values\": 90,\n        \"samples\": [\n          \"What is the currency of China?\",\n          \"What is the capital of Australia?\",\n          \"Who discovered electricity?\"\n        ],\n        \"semantic_type\": \"\",\n        \"description\": \"\"\n      }\n    },\n    {\n      \"column\": \"answer\",\n      \"properties\": {\n        \"dtype\": \"string\",\n        \"num_unique_values\": 85,\n        \"samples\": [\n          \"ChristopherColumbus\",\n          \"Paris\",\n          \"Christmas\"\n        ],\n        \"semantic_type\": \"\",\n        \"description\": \"\"\n      }\n    }\n  ]\n}"
            }
          },
          "metadata": {},
          "execution_count": 16
        }
      ],
      "source": [
        "import pandas as pd\n",
        "df=pd.read_csv('/content/100_Unique_QA_Dataset.csv')\n",
        "df.head()"
      ]
    },
    {
      "cell_type": "code",
      "source": [
        "## tokenize the dataset\n",
        "def tokenize(text):\n",
        "  test=text.lower()\n",
        "  text=text.replace('?','')\n",
        "  text=text.replace(\"'\",\"\")\n",
        "  return text.split()\n",
        "\n",
        "## forming the vocabulary\n",
        "vocab={'<UNK>':0}\n",
        "def build_vocab(row):\n",
        "  tokenized_question=tokenize(row['question'])\n",
        "  tokenized_answer=tokenize(row['answer'])\n",
        "  merged_tokens=tokenized_question+tokenized_answer\n",
        "\n",
        "  for token in merged_tokens:\n",
        "    if token not in vocab:\n",
        "      vocab[token]=len(vocab)\n",
        "## words to numerical indices\n",
        "def text_to_indices(text,vocab):\n",
        "  indexed_text=[]\n",
        "  for token in tokenize(text):\n",
        "    if token in vocab:\n",
        "      indexed_text.append(vocab[token])\n",
        "    else:\n",
        "      indexed_text.append(vocab['<UNK>'])\n",
        "\n",
        "  return indexed_text"
      ],
      "metadata": {
        "id": "3Dimz3hKwTML"
      },
      "execution_count": 17,
      "outputs": []
    },
    {
      "cell_type": "code",
      "source": [
        "text_to_indices(\"are you fine?\",vocab)"
      ],
      "metadata": {
        "colab": {
          "base_uri": "https://localhost:8080/"
        },
        "id": "tR_qgteeDcAh",
        "outputId": "0c3ab56c-2c4c-4367-f70f-e057ba515de7"
      },
      "execution_count": 18,
      "outputs": [
        {
          "output_type": "execute_result",
          "data": {
            "text/plain": [
              "[0, 0, 0]"
            ]
          },
          "metadata": {},
          "execution_count": 18
        }
      ]
    },
    {
      "cell_type": "code",
      "source": [
        "df.apply(build_vocab,axis=1)"
      ],
      "metadata": {
        "colab": {
          "base_uri": "https://localhost:8080/",
          "height": 458
        },
        "id": "HisXK58HxHTe",
        "outputId": "fc6c841a-cf2a-4cb9-f4c4-873c9660e873"
      },
      "execution_count": 19,
      "outputs": [
        {
          "output_type": "execute_result",
          "data": {
            "text/plain": [
              "0     None\n",
              "1     None\n",
              "2     None\n",
              "3     None\n",
              "4     None\n",
              "      ... \n",
              "85    None\n",
              "86    None\n",
              "87    None\n",
              "88    None\n",
              "89    None\n",
              "Length: 90, dtype: object"
            ],
            "text/html": [
              "<div>\n",
              "<style scoped>\n",
              "    .dataframe tbody tr th:only-of-type {\n",
              "        vertical-align: middle;\n",
              "    }\n",
              "\n",
              "    .dataframe tbody tr th {\n",
              "        vertical-align: top;\n",
              "    }\n",
              "\n",
              "    .dataframe thead th {\n",
              "        text-align: right;\n",
              "    }\n",
              "</style>\n",
              "<table border=\"1\" class=\"dataframe\">\n",
              "  <thead>\n",
              "    <tr style=\"text-align: right;\">\n",
              "      <th></th>\n",
              "      <th>0</th>\n",
              "    </tr>\n",
              "  </thead>\n",
              "  <tbody>\n",
              "    <tr>\n",
              "      <th>0</th>\n",
              "      <td>None</td>\n",
              "    </tr>\n",
              "    <tr>\n",
              "      <th>1</th>\n",
              "      <td>None</td>\n",
              "    </tr>\n",
              "    <tr>\n",
              "      <th>2</th>\n",
              "      <td>None</td>\n",
              "    </tr>\n",
              "    <tr>\n",
              "      <th>3</th>\n",
              "      <td>None</td>\n",
              "    </tr>\n",
              "    <tr>\n",
              "      <th>4</th>\n",
              "      <td>None</td>\n",
              "    </tr>\n",
              "    <tr>\n",
              "      <th>...</th>\n",
              "      <td>...</td>\n",
              "    </tr>\n",
              "    <tr>\n",
              "      <th>85</th>\n",
              "      <td>None</td>\n",
              "    </tr>\n",
              "    <tr>\n",
              "      <th>86</th>\n",
              "      <td>None</td>\n",
              "    </tr>\n",
              "    <tr>\n",
              "      <th>87</th>\n",
              "      <td>None</td>\n",
              "    </tr>\n",
              "    <tr>\n",
              "      <th>88</th>\n",
              "      <td>None</td>\n",
              "    </tr>\n",
              "    <tr>\n",
              "      <th>89</th>\n",
              "      <td>None</td>\n",
              "    </tr>\n",
              "  </tbody>\n",
              "</table>\n",
              "<p>90 rows × 1 columns</p>\n",
              "</div><br><label><b>dtype:</b> object</label>"
            ]
          },
          "metadata": {},
          "execution_count": 19
        }
      ]
    },
    {
      "cell_type": "code",
      "source": [
        "len(vocab)"
      ],
      "metadata": {
        "colab": {
          "base_uri": "https://localhost:8080/"
        },
        "id": "GO18qzgb9LJx",
        "outputId": "0c77545b-9c93-4e44-e315-688383f5223a"
      },
      "execution_count": 20,
      "outputs": [
        {
          "output_type": "execute_result",
          "data": {
            "text/plain": [
              "330"
            ]
          },
          "metadata": {},
          "execution_count": 20
        }
      ]
    },
    {
      "cell_type": "code",
      "source": [
        "import torch\n",
        "from torch.utils.data import Dataset, DataLoader\n",
        "class QADataset(Dataset):\n",
        "  def __init__(self,df,vocab):\n",
        "    self.df=df\n",
        "    self.vocab=vocab\n",
        "\n",
        "  def __len__(self):\n",
        "    return self.df.shape[0]\n",
        "\n",
        "  def __getitem__(self,index):\n",
        "    numerical_question=text_to_indices(self.df.iloc[index]['question'],self.vocab)\n",
        "    numerical_answer=text_to_indices(self.df.iloc[index]['answer'],self.vocab)\n",
        "\n",
        "    return torch.tensor(numerical_question), torch.tensor(numerical_answer)"
      ],
      "metadata": {
        "id": "9iikdkKeD1Zv"
      },
      "execution_count": 21,
      "outputs": []
    },
    {
      "cell_type": "code",
      "source": [
        "dataset=QADataset(df,vocab)"
      ],
      "metadata": {
        "id": "zWnlM7EqIhsU"
      },
      "execution_count": 22,
      "outputs": []
    },
    {
      "cell_type": "code",
      "source": [
        "dataloader=DataLoader(dataset,batch_size=1, shuffle=True)"
      ],
      "metadata": {
        "id": "MSqGi_u5tNJf"
      },
      "execution_count": 23,
      "outputs": []
    },
    {
      "cell_type": "code",
      "source": [
        "for question,answer in dataloader:\n",
        "  print(question,answer[0])\n"
      ],
      "metadata": {
        "colab": {
          "base_uri": "https://localhost:8080/"
        },
        "id": "9Lc5NeoFtYM2",
        "outputId": "73c5f5cf-d2d3-4321-ec3a-9050416c9775"
      },
      "execution_count": 24,
      "outputs": [
        {
          "output_type": "stream",
          "name": "stdout",
          "text": [
            "tensor([[ 42,  18, 120,   3, 191, 192]]) tensor([193])\n",
            "tensor([[ 42,   2,   3, 215, 141, 173, 216, 174]]) tensor([115])\n",
            "tensor([[ 42,  18,   2,   3, 287, 147,   3, 288]]) tensor([210])\n",
            "tensor([[42, 43, 44, 45, 46, 47, 48]]) tensor([49])\n",
            "tensor([[ 42, 141,   2, 231, 147,   3, 232, 233]]) tensor([160])\n",
            "tensor([[ 10, 314,   3, 315, 316]]) tensor([317])\n",
            "tensor([[  1,   2,   3, 151,  88,  19, 197, 198]]) tensor([199])\n",
            "tensor([[ 42, 268, 269,  14, 270, 271, 163, 272]]) tensor([273])\n",
            "tensor([[ 1,  2,  3, 24, 25,  5, 26, 19, 27]]) tensor([28])\n",
            "tensor([[ 42, 318,   2, 319,  63,  64,   3, 320, 321]]) tensor([322])\n",
            "tensor([[  1,  89, 234, 235, 236, 237]]) tensor([238])\n",
            "tensor([[  1,   2,   3,   4,   5, 139]]) tensor([140])\n",
            "tensor([[  1,   2,   3, 168, 169, 170,  85,  86]]) tensor([171])\n",
            "tensor([[ 42, 221, 120, 222, 223,  19,  14, 224,  43]]) tensor([225])\n",
            "tensor([[ 42, 324,   2,  63,  64,   3, 325,   5, 326]]) tensor([327])\n",
            "tensor([[ 10, 144,   3, 145, 275, 276, 277,   5,   3, 278]]) tensor([279])\n",
            "tensor([[  1,   2,   3,   4,   5, 285]]) tensor([286])\n",
            "tensor([[ 42,  88,  89, 246, 247,  19,  39, 248]]) tensor([249])\n",
            "tensor([[  1,   2,   3,   4,   5, 211]]) tensor([212])\n",
            "tensor([[ 42, 179,   2,  63,  39, 180, 181, 147, 182, 183]]) tensor([184])\n",
            "tensor([[ 1,  2,  3, 71,  5, 54]]) tensor([265])\n",
            "tensor([[10, 56,  3, 57,  5, 58]]) tensor([59])\n",
            "tensor([[ 1,  2,  3, 37, 38, 39, 40]]) tensor([41])\n",
            "tensor([[ 10,   2,  63,  64,   3, 289,   5, 290]]) tensor([291])\n",
            "tensor([[ 80,  81, 155, 156,  14, 157, 158]]) tensor([159])\n",
            "tensor([[ 42, 109,   2, 110,  19, 111]]) tensor([112])\n",
            "tensor([[ 10,  98,   3, 106, 244]]) tensor([245])\n",
            "tensor([[42, 18,  2, 63, 64,  3, 65, 66]]) tensor([67])\n",
            "tensor([[ 1,  2,  3, 71,  5,  3, 72, 73]]) tensor([74])\n",
            "tensor([[ 42, 172,   2,   3,  17, 173, 174]]) tensor([175])\n",
            "tensor([[ 1,  2,  3,  4,  5, 54]]) tensor([55])\n",
            "tensor([[ 42, 260,   2, 261,  85, 262, 263]]) tensor([264])\n",
            "tensor([[42, 88, 89, 90, 91, 39, 92]]) tensor([93])\n",
            "tensor([[ 42, 141,   2, 142,  39, 180, 274]]) tensor([101])\n",
            "tensor([[  1,   2,   3,   4,   5, 115]]) tensor([116])\n",
            "tensor([[ 42, 103,   2,   3,  17]]) tensor([104])\n",
            "tensor([[ 10,  29, 134, 135]]) tensor([136])\n",
            "tensor([[  1,   2,   3,  33,  34,   5, 250]]) tensor([251])\n",
            "tensor([[ 80,  81, 131,  83,  19,   3, 132, 133]]) tensor([36])\n",
            "tensor([[10, 11, 12, 13, 14, 15]]) tensor([16])\n",
            "tensor([[80, 81, 82, 83, 84, 85, 86]]) tensor([87])\n",
            "tensor([[ 80,  81, 200,  83,  19,   3, 201, 202, 203]]) tensor([204])\n",
            "tensor([[ 42, 305, 306, 120,  14, 307, 308, 163, 309, 310, 311, 312]]) tensor([313])\n",
            "tensor([[ 10,  77, 213]]) tensor([214])\n",
            "tensor([[  1,   2,   3, 145, 119,  85,   3, 283, 284]]) tensor([123])\n",
            "tensor([[ 80,  81, 294,  83,  19,  14, 295]]) tensor([87])\n",
            "tensor([[  1,   2,   3, 124, 125,  19,   3,  52]]) tensor([126])\n",
            "tensor([[ 42, 296, 297, 120, 298, 163, 299, 300]]) tensor([301])\n",
            "tensor([[ 1,  2,  3, 17, 18, 19, 20, 21, 22]]) tensor([23])\n",
            "tensor([[10, 29,  3, 30, 31]]) tensor([32])\n",
            "tensor([[  1,   2,   3, 239,   5, 240]]) tensor([135])\n",
            "tensor([[ 10,  11, 194, 163, 195]]) tensor([196])\n",
            "tensor([[  1,   2,   3,   4,   5, 111]]) tensor([323])\n",
            "tensor([[  1,   2,   3,  37,  38,  39, 166]]) tensor([167])\n",
            "tensor([[  1,   2,   3,  37, 137,   5,  26]]) tensor([138])\n",
            "tensor([[  1,   2,   3, 185, 186, 187, 188]]) tensor([189])\n",
            "tensor([[ 1,  2,  3, 60, 25,  5, 26, 19, 61]]) tensor([62])\n",
            "tensor([[ 10, 144,   3, 145, 146, 147, 148,  85,   3, 149]]) tensor([150])\n",
            "tensor([[  1,   2,   3,   4,   5, 241, 242]]) tensor([243])\n",
            "tensor([[  1,   2,   3, 105,   5, 106,  19, 107]]) tensor([108])\n",
            "tensor([[1, 2, 3, 4, 5, 8]]) tensor([9])\n",
            "tensor([[  1,   2,   3, 151, 152,  19, 153]]) tensor([154])\n",
            "tensor([[ 42, 141,   2, 142,  39, 143]]) tensor([54])\n",
            "tensor([[ 1,  2,  3, 33, 34,  5, 35]]) tensor([36])\n",
            "tensor([[ 80,  81, 266, 156,  14, 267, 158]]) tensor([36])\n",
            "tensor([[10, 98,  3, 99]]) tensor([100])\n",
            "tensor([[ 42, 141,   2,  63,  39,   3, 328, 329]]) tensor([6])\n",
            "tensor([[  1,   2,   3,  94, 141,  19,   3,  52]]) tensor([190])\n",
            "tensor([[ 1,  2,  3, 50, 51, 19,  3, 52]]) tensor([53])\n",
            "tensor([[  1,   2,   3,   4,   5, 101]]) tensor([102])\n",
            "tensor([[10, 77, 78]]) tensor([79])\n",
            "tensor([[  1,   2,   3,  71,   5, 160]]) tensor([161])\n",
            "tensor([[10,  2,  3, 68,  5, 69]]) tensor([70])\n",
            "tensor([[ 1,  2,  3, 94, 95, 96]]) tensor([97])\n",
            "tensor([[ 42, 255, 256, 120, 257, 258]]) tensor([259])\n",
            "tensor([[  1,   2,   3, 226,   5, 227, 228, 229]]) tensor([230])\n",
            "tensor([[ 42, 127,   2,  63,  64,   3, 128, 129]]) tensor([130])\n",
            "tensor([[ 42, 141, 120,   3, 252,   5, 253]]) tensor([254])\n",
            "tensor([[  1,   2,   3,  17, 117,  85,  86]]) tensor([118])\n",
            "tensor([[  1,   2,   3,   4,   5, 292]]) tensor([293])\n",
            "tensor([[ 42, 205,   2,  14, 206, 207, 208, 209]]) tensor([210])\n",
            "tensor([[ 10,  77, 113]]) tensor([114])\n",
            "tensor([[1, 2, 3, 4, 5, 6]]) tensor([7])\n",
            "tensor([[ 10,  11, 162, 163, 164]]) tensor([165])\n",
            "tensor([[ 42,   2,   3, 280, 216, 281]]) tensor([282])\n",
            "tensor([[ 10,  77,   3, 302,  19, 303]]) tensor([304])\n",
            "tensor([[ 1,  2,  3,  4,  5, 75]]) tensor([76])\n",
            "tensor([[ 10, 144,   3, 145, 176,   5,   3,  72, 177]]) tensor([178])\n",
            "tensor([[ 42, 119, 120,   3, 121,  96, 122]]) tensor([123])\n",
            "tensor([[  1,   2,   3, 217,   5,  14, 218, 219]]) tensor([220])\n"
          ]
        }
      ]
    },
    {
      "cell_type": "code",
      "source": [
        "## constructing the RNN:\n",
        "import torch.nn as nn\n",
        "\n",
        "class SimpleRNN(nn.Module):\n",
        "  def __init__(self,vocab_size):\n",
        "    super().__init__()\n",
        "    self.embedding=nn.Embedding(vocab_size,embedding_dim=50)\n",
        "    self.rnn=nn.RNN(50,64, batch_first=True)\n",
        "    self.fc=nn.Linear(64,vocab_size)\n",
        "\n",
        "  def forward(self,question):\n",
        "    embedded_qn=self.embedding(question)\n",
        "    hidden,final=self.rnn(embedded_qn)\n",
        "    output=self.fc(final.squeeze(0))\n",
        "\n",
        "    return output\n"
      ],
      "metadata": {
        "id": "d2u4gu8ptjJj"
      },
      "execution_count": 25,
      "outputs": []
    },
    {
      "cell_type": "code",
      "source": [
        "learning_rate=0.001\n",
        "epochs=20"
      ],
      "metadata": {
        "id": "ka_MedI2wxdQ"
      },
      "execution_count": 26,
      "outputs": []
    },
    {
      "cell_type": "code",
      "source": [
        "\n",
        "model=SimpleRNN(len(vocab))\n",
        "\n",
        "criterion=nn.CrossEntropyLoss()\n",
        "optimizer=torch.optim.Adam(model.parameters(),lr=learning_rate)"
      ],
      "metadata": {
        "id": "1NRD-7yCw2q4"
      },
      "execution_count": 27,
      "outputs": []
    },
    {
      "cell_type": "code",
      "source": [
        "## training_loop\n",
        "\n",
        "for epoch in range(epochs):\n",
        "  total_loss=0\n",
        "\n",
        "  for question,answer in dataloader:\n",
        "    optimizer.zero_grad()\n",
        "\n",
        "    ## forward pass\n",
        "    output=model(question)\n",
        "    loss=criterion(output,answer[0])\n",
        "    loss.backward()\n",
        "    optimizer.step()\n",
        "    total_loss+=loss.item()\n",
        "\n",
        "  print(f\"Epoch: {epoch+1}, Loss:{total_loss:4f}\")\n"
      ],
      "metadata": {
        "colab": {
          "base_uri": "https://localhost:8080/"
        },
        "id": "ID5EcMYXxlEd",
        "outputId": "aa3ab2e6-efbf-449c-bc67-bd9da206860d"
      },
      "execution_count": 29,
      "outputs": [
        {
          "output_type": "stream",
          "name": "stdout",
          "text": [
            "Epoch: 1, Loss:524.989253\n",
            "Epoch: 2, Loss:461.568373\n",
            "Epoch: 3, Loss:385.126272\n",
            "Epoch: 4, Loss:318.670826\n",
            "Epoch: 5, Loss:265.112942\n",
            "Epoch: 6, Loss:215.456574\n",
            "Epoch: 7, Loss:170.159732\n",
            "Epoch: 8, Loss:131.331144\n",
            "Epoch: 9, Loss:99.419566\n",
            "Epoch: 10, Loss:75.503796\n",
            "Epoch: 11, Loss:57.603286\n",
            "Epoch: 12, Loss:45.110510\n",
            "Epoch: 13, Loss:36.065999\n",
            "Epoch: 14, Loss:29.603865\n",
            "Epoch: 15, Loss:24.224943\n",
            "Epoch: 16, Loss:19.817546\n",
            "Epoch: 17, Loss:16.831985\n",
            "Epoch: 18, Loss:14.598554\n",
            "Epoch: 19, Loss:12.529571\n",
            "Epoch: 20, Loss:11.006018\n"
          ]
        }
      ]
    },
    {
      "cell_type": "code",
      "source": [
        "def predict(model, question, threshold=0.5):\n",
        "  ## convert question to numbers\n",
        "  numerical_question=text_to_indices(question,vocab)\n",
        "\n",
        "  question_tensor=torch.tensor(numerical_question).unsqueeze(0)\n",
        "  output=model(question_tensor)\n",
        "\n",
        "  ## convert logits to probabilities\n",
        "  probs=torch.nn.functional.softmax(output,dim=1)\n",
        "\n",
        "  ## find index of max prob\n",
        "  value,index=torch.max(probs,dim=1)\n",
        "\n",
        "  if value<threshold:\n",
        "    print(\"I don't know\" )\n",
        "  else:\n",
        "    print(list(vocab.keys())[index])"
      ],
      "metadata": {
        "id": "Mm4llAK-0jmA"
      },
      "execution_count": 36,
      "outputs": []
    },
    {
      "cell_type": "code",
      "source": [
        "predict(model,\"what is the largest planet of our solar system\")"
      ],
      "metadata": {
        "colab": {
          "base_uri": "https://localhost:8080/"
        },
        "id": "4AMc0nNh3XSm",
        "outputId": "7c22b19c-97ae-43b9-9ccd-61ab03644ecc"
      },
      "execution_count": 38,
      "outputs": [
        {
          "output_type": "stream",
          "name": "stdout",
          "text": [
            "Jupiter\n"
          ]
        }
      ]
    },
    {
      "cell_type": "code",
      "source": [
        "predict(model,'are you mad?')"
      ],
      "metadata": {
        "colab": {
          "base_uri": "https://localhost:8080/"
        },
        "id": "2628Be_a3fVh",
        "outputId": "c0362d3a-8b5e-4ce4-97a2-c8601f7a7033"
      },
      "execution_count": 37,
      "outputs": [
        {
          "output_type": "stream",
          "name": "stdout",
          "text": [
            "I don't know\n"
          ]
        }
      ]
    },
    {
      "cell_type": "code",
      "source": [],
      "metadata": {
        "id": "DdGypeln31rp"
      },
      "execution_count": null,
      "outputs": []
    }
  ]
}