{
  "nbformat": 4,
  "nbformat_minor": 0,
  "metadata": {
    "colab": {
      "provenance": []
    },
    "kernelspec": {
      "name": "python3",
      "display_name": "Python 3"
    },
    "language_info": {
      "name": "python"
    }
  },
  "cells": [
    {
      "cell_type": "code",
      "execution_count": 1,
      "metadata": {
        "id": "EQKG6sffAYZt"
      },
      "outputs": [],
      "source": [
        "import torch\n",
        "import torch.nn as nn\n"
      ]
    },
    {
      "cell_type": "code",
      "source": [
        "class Model(nn.Module):\n",
        "  def __init__(self,num_features):\n",
        "\n",
        "    super().__init__()\n",
        "    self.linear=nn.Linear(num_features,1)\n",
        "    self.sigmoid=nn.Sigmoid()\n",
        "\n",
        "  def forward(self,features):\n",
        "    out=self.linear(features)\n",
        "    out=self.sigmoid(out)\n",
        "\n",
        "    return out"
      ],
      "metadata": {
        "id": "r4rEaxUeAiBk"
      },
      "execution_count": 2,
      "outputs": []
    },
    {
      "cell_type": "code",
      "source": [
        "## making a simple neural network of one layer\n",
        "\n",
        "\n",
        "features=torch.rand(10,5)\n",
        "model=Model(features.shape[1])\n",
        "model(features)\n"
      ],
      "metadata": {
        "colab": {
          "base_uri": "https://localhost:8080/"
        },
        "id": "7EJvo1dOeSWi",
        "outputId": "35458e82-e349-49be-a26f-d633f01bddeb"
      },
      "execution_count": 3,
      "outputs": [
        {
          "output_type": "execute_result",
          "data": {
            "text/plain": [
              "tensor([[0.4454],\n",
              "        [0.4429],\n",
              "        [0.4006],\n",
              "        [0.4351],\n",
              "        [0.4891],\n",
              "        [0.4987],\n",
              "        [0.4918],\n",
              "        [0.4201],\n",
              "        [0.4524],\n",
              "        [0.4515]], grad_fn=<SigmoidBackward0>)"
            ]
          },
          "metadata": {},
          "execution_count": 3
        }
      ]
    },
    {
      "cell_type": "code",
      "source": [
        "model.sigmoid"
      ],
      "metadata": {
        "colab": {
          "base_uri": "https://localhost:8080/"
        },
        "id": "N0alCVE-fWxs",
        "outputId": "e17fb810-65f9-4c9e-8eda-5663727f27ac"
      },
      "execution_count": 12,
      "outputs": [
        {
          "output_type": "execute_result",
          "data": {
            "text/plain": [
              "Sigmoid()"
            ]
          },
          "metadata": {},
          "execution_count": 12
        }
      ]
    },
    {
      "cell_type": "markdown",
      "source": [
        "## now we will try to make a neural network with 2 hidden layers where first layer will contain 5 nodes and second layer will contain 3 nodes"
      ],
      "metadata": {
        "id": "dgAStZ3hf2TZ"
      }
    },
    {
      "cell_type": "code",
      "source": [
        "import torch\n",
        "import torch.nn as nn\n",
        "\n",
        "class Model(nn.Module):\n",
        "  def __init__(self,num_features):\n",
        "    super().__init__()\n",
        "    self.linear1=nn.Linear(num_features,5)\n",
        "    self.relu=nn.ReLU()\n",
        "    self.linear2=nn.Linear(5,1)\n",
        "    self.sigmoid=nn.Sigmoid()\n",
        "\n",
        "  def forward (self,features):\n",
        "    out=self.linear1(features)\n",
        "    out=self.relu(out)\n",
        "    out=self.linear2(out)\n",
        "    out=self.sigmoid(out)\n",
        "\n",
        "    return out"
      ],
      "metadata": {
        "id": "jUO52uu3fhHh"
      },
      "execution_count": 13,
      "outputs": []
    },
    {
      "cell_type": "code",
      "source": [
        "## create a random dataset\n",
        "features=torch.rand(10,5)\n",
        "model=Model(features.shape[1])\n",
        "model(features)"
      ],
      "metadata": {
        "colab": {
          "base_uri": "https://localhost:8080/"
        },
        "id": "lzjBD1hW5Har",
        "outputId": "8bb90c7d-9b17-45e8-daaa-33dd5b83f000"
      },
      "execution_count": 14,
      "outputs": [
        {
          "output_type": "execute_result",
          "data": {
            "text/plain": [
              "tensor([[0.4190],\n",
              "        [0.4258],\n",
              "        [0.4239],\n",
              "        [0.4232],\n",
              "        [0.4298],\n",
              "        [0.4128],\n",
              "        [0.4348],\n",
              "        [0.4026],\n",
              "        [0.4059],\n",
              "        [0.4114]], grad_fn=<SigmoidBackward0>)"
            ]
          },
          "metadata": {},
          "execution_count": 14
        }
      ]
    },
    {
      "cell_type": "code",
      "source": [
        "model.linear1.weight"
      ],
      "metadata": {
        "colab": {
          "base_uri": "https://localhost:8080/"
        },
        "id": "-f3dcwOr5ZPQ",
        "outputId": "07ce53e2-c2b4-4c33-f7b2-140301270342"
      },
      "execution_count": 15,
      "outputs": [
        {
          "output_type": "execute_result",
          "data": {
            "text/plain": [
              "Parameter containing:\n",
              "tensor([[ 0.2365, -0.3139, -0.1187,  0.0158,  0.0582],\n",
              "        [ 0.4021,  0.1446,  0.4252,  0.1329, -0.0256],\n",
              "        [-0.2186,  0.2455, -0.1930, -0.3668, -0.2741],\n",
              "        [-0.1585, -0.1658, -0.3631, -0.0788,  0.2982],\n",
              "        [ 0.0307, -0.4165,  0.0561, -0.1241, -0.0270]], requires_grad=True)"
            ]
          },
          "metadata": {},
          "execution_count": 15
        }
      ]
    },
    {
      "cell_type": "code",
      "source": [
        "model.linear2.weight"
      ],
      "metadata": {
        "colab": {
          "base_uri": "https://localhost:8080/"
        },
        "id": "t4OlGFGz5gQv",
        "outputId": "b311e76c-6ec2-49cd-cb62-46946ee09f87"
      },
      "execution_count": 16,
      "outputs": [
        {
          "output_type": "execute_result",
          "data": {
            "text/plain": [
              "Parameter containing:\n",
              "tensor([[ 0.0221, -0.2320, -0.1604,  0.0246,  0.3164]], requires_grad=True)"
            ]
          },
          "metadata": {},
          "execution_count": 16
        }
      ]
    },
    {
      "cell_type": "code",
      "source": [
        "pip install torchinfo"
      ],
      "metadata": {
        "colab": {
          "base_uri": "https://localhost:8080/"
        },
        "id": "Oxrg-U1H5lCM",
        "outputId": "7ccbeffe-cd7c-4e62-a3bf-fbb197958159"
      },
      "execution_count": 17,
      "outputs": [
        {
          "output_type": "stream",
          "name": "stdout",
          "text": [
            "Collecting torchinfo\n",
            "  Downloading torchinfo-1.8.0-py3-none-any.whl.metadata (21 kB)\n",
            "Downloading torchinfo-1.8.0-py3-none-any.whl (23 kB)\n",
            "Installing collected packages: torchinfo\n",
            "Successfully installed torchinfo-1.8.0\n"
          ]
        }
      ]
    },
    {
      "cell_type": "code",
      "source": [
        "from torchinfo import summary\n",
        "summary(model,input_size=(10,5))"
      ],
      "metadata": {
        "colab": {
          "base_uri": "https://localhost:8080/"
        },
        "id": "j50G3fCw5q2Q",
        "outputId": "58c198da-8179-41e6-e686-81ed6ab864d1"
      },
      "execution_count": 18,
      "outputs": [
        {
          "output_type": "execute_result",
          "data": {
            "text/plain": [
              "==========================================================================================\n",
              "Layer (type:depth-idx)                   Output Shape              Param #\n",
              "==========================================================================================\n",
              "Model                                    [10, 1]                   --\n",
              "├─Linear: 1-1                            [10, 5]                   30\n",
              "├─ReLU: 1-2                              [10, 5]                   --\n",
              "├─Linear: 1-3                            [10, 1]                   6\n",
              "├─Sigmoid: 1-4                           [10, 1]                   --\n",
              "==========================================================================================\n",
              "Total params: 36\n",
              "Trainable params: 36\n",
              "Non-trainable params: 0\n",
              "Total mult-adds (Units.MEGABYTES): 0.00\n",
              "==========================================================================================\n",
              "Input size (MB): 0.00\n",
              "Forward/backward pass size (MB): 0.00\n",
              "Params size (MB): 0.00\n",
              "Estimated Total Size (MB): 0.00\n",
              "=========================================================================================="
            ]
          },
          "metadata": {},
          "execution_count": 18
        }
      ]
    },
    {
      "cell_type": "markdown",
      "source": [
        "## using sequential containers to optimise the code"
      ],
      "metadata": {
        "id": "DPJzpvpi6EWw"
      }
    },
    {
      "cell_type": "code",
      "source": [
        "class Model(nn.Module):\n",
        "  def __init__(self,num_features):\n",
        "    super().__init__()\n",
        "    self.network=nn.Sequential(\n",
        "        nn.Linear(num_features,5),\n",
        "        nn.ReLU(),\n",
        "        nn.Linear(5,1),\n",
        "        nn.Sigmoid()\n",
        "    )\n",
        "\n",
        "  def forward (self,features):\n",
        "    out=self.network(features)\n",
        "\n",
        "    return out"
      ],
      "metadata": {
        "id": "FL62XVl352ul"
      },
      "execution_count": 19,
      "outputs": []
    },
    {
      "cell_type": "code",
      "source": [
        "## create a random dataset\n",
        "features=torch.rand(10,5)\n",
        "model=Model(features.shape[1])\n",
        "model(features)"
      ],
      "metadata": {
        "colab": {
          "base_uri": "https://localhost:8080/"
        },
        "id": "iId66PEi6sRy",
        "outputId": "2e2350a5-b54b-4205-d014-0c7d31272dd0"
      },
      "execution_count": 20,
      "outputs": [
        {
          "output_type": "execute_result",
          "data": {
            "text/plain": [
              "tensor([[0.5325],\n",
              "        [0.5361],\n",
              "        [0.5351],\n",
              "        [0.5365],\n",
              "        [0.5345],\n",
              "        [0.5321],\n",
              "        [0.5345],\n",
              "        [0.5324],\n",
              "        [0.5329],\n",
              "        [0.5354]], grad_fn=<SigmoidBackward0>)"
            ]
          },
          "metadata": {},
          "execution_count": 20
        }
      ]
    },
    {
      "cell_type": "code",
      "source": [],
      "metadata": {
        "id": "MbDtJ7Oe66yl"
      },
      "execution_count": null,
      "outputs": []
    }
  ]
}