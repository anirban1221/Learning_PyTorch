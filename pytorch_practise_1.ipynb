{
  "nbformat": 4,
  "nbformat_minor": 0,
  "metadata": {
    "colab": {
      "provenance": [],
      "authorship_tag": "ABX9TyOs3CEljKOvHXB7CGPU/nyw",
      "include_colab_link": true
    },
    "kernelspec": {
      "name": "python3",
      "display_name": "Python 3"
    },
    "language_info": {
      "name": "python"
    }
  },
  "cells": [
    {
      "cell_type": "markdown",
      "metadata": {
        "id": "view-in-github",
        "colab_type": "text"
      },
      "source": [
        "<a href=\"https://colab.research.google.com/github/anirban1221/Learning_PyTorch/blob/main/pytorch_practise_1.ipynb\" target=\"_parent\"><img src=\"https://colab.research.google.com/assets/colab-badge.svg\" alt=\"Open In Colab\"/></a>"
      ]
    },
    {
      "cell_type": "markdown",
      "source": [
        "## foundational tensor operations and pytorch outline"
      ],
      "metadata": {
        "id": "WaB430el1iJK"
      }
    },
    {
      "cell_type": "code",
      "execution_count": 1,
      "metadata": {
        "id": "N4SVdxzCcIxq"
      },
      "outputs": [],
      "source": [
        "import torch\n",
        "device='cuda' if torch.cuda.is_available() else 'cpu'"
      ]
    },
    {
      "cell_type": "code",
      "source": [
        "my_tensor=torch.tensor([[1,2,3],[4,5,6]], dtype=torch.float32,device=device,requires_grad=True)\n",
        "print(my_tensor)\n",
        "print(my_tensor.dtype)\n",
        "print(my_tensor.shape)\n",
        "print(my_tensor.requires_grad)"
      ],
      "metadata": {
        "colab": {
          "base_uri": "https://localhost:8080/"
        },
        "id": "3NjSPeNFcpsh",
        "outputId": "7c9c9e67-434e-4e34-e23d-21f22e57caf7"
      },
      "execution_count": 2,
      "outputs": [
        {
          "output_type": "stream",
          "name": "stdout",
          "text": [
            "tensor([[1., 2., 3.],\n",
            "        [4., 5., 6.]], requires_grad=True)\n",
            "torch.float32\n",
            "torch.Size([2, 3])\n",
            "True\n"
          ]
        }
      ]
    },
    {
      "cell_type": "code",
      "source": [
        "x=torch.empty(size=(3,3))\n",
        "x=torch.zeros((3,3))\n",
        "x=torch.ones((3,3))\n",
        "x=torch.eye(3,3) ## printing iodentity matrix\n",
        "x=torch.arange(start=0,end=5,step=1)\n",
        "x=torch.diag(torch.ones(3)) ##another way to print diagonal matrix\n",
        "x=torch.arange(4)\n",
        "x"
      ],
      "metadata": {
        "colab": {
          "base_uri": "https://localhost:8080/"
        },
        "id": "00n7xpP8dK2t",
        "outputId": "1a404170-5a08-40fb-d6b2-0671290b5eb2"
      },
      "execution_count": 11,
      "outputs": [
        {
          "output_type": "execute_result",
          "data": {
            "text/plain": [
              "tensor([0, 1, 2, 3])"
            ]
          },
          "metadata": {},
          "execution_count": 11
        }
      ]
    },
    {
      "cell_type": "code",
      "source": [
        "tensor=torch.arange(4)\n",
        "print(tensor.bool())\n",
        "print(tensor.short())## int 16\n",
        "print(tensor.long())## float 16\n",
        "print(tensor.half())## float 32\n",
        "print(tensor.double())## float 64"
      ],
      "metadata": {
        "colab": {
          "base_uri": "https://localhost:8080/"
        },
        "id": "IWrydXqcdXfu",
        "outputId": "8560b7c1-32b0-4025-ced7-a0ee8dff01ea"
      },
      "execution_count": 12,
      "outputs": [
        {
          "output_type": "stream",
          "name": "stdout",
          "text": [
            "tensor([False,  True,  True,  True])\n",
            "tensor([0, 1, 2, 3], dtype=torch.int16)\n",
            "tensor([0, 1, 2, 3])\n",
            "tensor([0., 1., 2., 3.], dtype=torch.float16)\n",
            "tensor([0., 1., 2., 3.], dtype=torch.float64)\n"
          ]
        }
      ]
    },
    {
      "cell_type": "code",
      "source": [
        "import numpy as np\n",
        "np_array=np.zeros((5,5))\n",
        "tensor=torch.from_numpy(np_array)\n",
        "tensor.long()"
      ],
      "metadata": {
        "colab": {
          "base_uri": "https://localhost:8080/"
        },
        "id": "vVRqa44Gf55V",
        "outputId": "e75d0a50-b227-444e-ebdd-fc6442db39a1"
      },
      "execution_count": 16,
      "outputs": [
        {
          "output_type": "execute_result",
          "data": {
            "text/plain": [
              "tensor([[0, 0, 0, 0, 0],\n",
              "        [0, 0, 0, 0, 0],\n",
              "        [0, 0, 0, 0, 0],\n",
              "        [0, 0, 0, 0, 0],\n",
              "        [0, 0, 0, 0, 0]])"
            ]
          },
          "metadata": {},
          "execution_count": 16
        }
      ]
    },
    {
      "cell_type": "code",
      "source": [
        "## mathematical operations\n",
        "\n",
        "x=torch.tensor([1,2,3])\n",
        "y=torch.tensor([4,5,6])\n",
        "z1=torch.empty(3)\n",
        "z1=torch.add(x,y)\n",
        "z1=x-y\n",
        "z1=torch.true_divide(x,y)\n",
        "z1=x*y\n",
        "z1=x.pow(2)\n",
        "x1=torch.rand(3,3)\n",
        "x2=torch.rand(3,3)\n",
        "print(x1)\n",
        "print(x2)\n",
        "x3=torch.matmul(x1,x2)\n",
        "x3=torch.dot(x,y)\n",
        "x3\n"
      ],
      "metadata": {
        "colab": {
          "base_uri": "https://localhost:8080/"
        },
        "id": "x5FUWhefgb3Q",
        "outputId": "40941d16-7e62-44c4-9fbf-3082e5f2b1bf"
      },
      "execution_count": 33,
      "outputs": [
        {
          "output_type": "stream",
          "name": "stdout",
          "text": [
            "tensor([[0.1807, 0.3949, 0.2190],\n",
            "        [0.2110, 0.9284, 0.0096],\n",
            "        [0.8973, 0.5267, 0.1953]])\n",
            "tensor([[0.8385, 0.3052, 0.2237],\n",
            "        [0.6529, 0.3544, 0.8348],\n",
            "        [0.7867, 0.0189, 0.5762]])\n"
          ]
        },
        {
          "output_type": "execute_result",
          "data": {
            "text/plain": [
              "tensor(32)"
            ]
          },
          "metadata": {},
          "execution_count": 33
        }
      ]
    },
    {
      "cell_type": "code",
      "source": [
        "## batch matrix multiplication\n",
        "\n",
        "batch=32\n",
        "n=10\n",
        "m=20\n",
        "p=30\n",
        "\n",
        "tensor1=torch.rand((batch,n,m))\n",
        "tensor2=torch.rand((batch,m,p))\n",
        "out_batch=torch.bmm(tensor1,tensor2)\n",
        "out_batch"
      ],
      "metadata": {
        "colab": {
          "base_uri": "https://localhost:8080/"
        },
        "id": "y222UhRylk51",
        "outputId": "e63482a0-a70d-4861-eb52-54d6058558e1"
      },
      "execution_count": 35,
      "outputs": [
        {
          "output_type": "execute_result",
          "data": {
            "text/plain": [
              "tensor([[[3.5305, 3.4441, 4.7633,  ..., 4.9010, 3.8717, 5.5555],\n",
              "         [3.4945, 4.6382, 5.5677,  ..., 5.2391, 4.4378, 5.0169],\n",
              "         [3.7929, 4.4419, 6.0868,  ..., 5.9762, 5.1225, 6.7695],\n",
              "         ...,\n",
              "         [2.4956, 3.7842, 4.0135,  ..., 3.7004, 3.1129, 3.8726],\n",
              "         [3.5243, 4.7318, 5.9556,  ..., 5.7722, 4.0858, 5.4615],\n",
              "         [2.8584, 3.9224, 5.8368,  ..., 5.6547, 3.8876, 4.8050]],\n",
              "\n",
              "        [[5.0979, 5.3514, 7.3875,  ..., 4.4851, 5.7261, 5.6317],\n",
              "         [3.7108, 3.4322, 5.2390,  ..., 3.4687, 4.2931, 4.5416],\n",
              "         [3.3284, 4.3806, 5.0993,  ..., 4.3387, 4.9566, 4.6571],\n",
              "         ...,\n",
              "         [5.1482, 4.9913, 7.8335,  ..., 5.7247, 6.3154, 5.8043],\n",
              "         [4.1793, 4.6832, 7.3578,  ..., 4.8121, 5.2058, 5.6968],\n",
              "         [4.9759, 4.7134, 6.6933,  ..., 4.5930, 5.7291, 5.4988]],\n",
              "\n",
              "        [[3.8596, 5.6821, 5.4451,  ..., 5.4319, 4.0451, 4.6522],\n",
              "         [3.9997, 5.5983, 4.9366,  ..., 5.4363, 4.3830, 5.1433],\n",
              "         [3.8805, 4.4900, 4.4099,  ..., 4.3194, 3.6506, 3.8728],\n",
              "         ...,\n",
              "         [4.7219, 6.3698, 6.7274,  ..., 6.0849, 4.3247, 4.1712],\n",
              "         [3.7170, 5.7318, 6.2131,  ..., 5.7893, 4.0705, 4.3693],\n",
              "         [4.7190, 5.4651, 6.0333,  ..., 5.0013, 4.2287, 4.7976]],\n",
              "\n",
              "        ...,\n",
              "\n",
              "        [[4.3368, 5.8083, 4.8004,  ..., 4.7245, 5.4036, 3.8060],\n",
              "         [3.7742, 4.4951, 3.5952,  ..., 4.0333, 4.1106, 3.5693],\n",
              "         [3.1621, 4.0671, 3.1131,  ..., 3.4169, 3.2972, 2.7982],\n",
              "         ...,\n",
              "         [4.6832, 5.7188, 5.0041,  ..., 5.7214, 5.5522, 5.0096],\n",
              "         [5.3192, 4.9328, 4.9627,  ..., 5.5488, 4.9560, 4.4235],\n",
              "         [4.9183, 5.1213, 4.5583,  ..., 5.4506, 5.7333, 4.7961]],\n",
              "\n",
              "        [[3.6354, 3.0395, 3.7346,  ..., 3.5793, 4.7499, 3.7540],\n",
              "         [5.0251, 5.1312, 5.9342,  ..., 6.0439, 6.1750, 5.7031],\n",
              "         [5.0384, 3.8688, 4.6500,  ..., 4.0448, 5.4493, 4.8429],\n",
              "         ...,\n",
              "         [4.9297, 3.8994, 4.9910,  ..., 4.3486, 6.1245, 5.0398],\n",
              "         [5.4147, 4.8505, 6.5959,  ..., 5.3963, 6.6811, 6.0355],\n",
              "         [4.4083, 3.7978, 5.3239,  ..., 4.7534, 5.5263, 4.8537]],\n",
              "\n",
              "        [[5.5812, 6.9647, 5.0491,  ..., 6.1558, 7.4775, 6.2359],\n",
              "         [6.0965, 5.9975, 5.3286,  ..., 6.2588, 7.0807, 5.6048],\n",
              "         [5.7452, 6.2217, 5.5972,  ..., 5.8974, 6.3688, 6.1850],\n",
              "         ...,\n",
              "         [5.1743, 6.4127, 4.5881,  ..., 4.9564, 6.4001, 5.0219],\n",
              "         [5.0827, 5.8601, 4.7904,  ..., 5.1056, 5.5497, 5.4515],\n",
              "         [5.2012, 5.2571, 4.9550,  ..., 5.1373, 5.6266, 5.6484]]])"
            ]
          },
          "metadata": {},
          "execution_count": 35
        }
      ]
    },
    {
      "cell_type": "code",
      "source": [
        "sum_x=torch.sum(x,dim=0)\n",
        "values, indices=torch.max(x,dim=0)\n",
        "values"
      ],
      "metadata": {
        "colab": {
          "base_uri": "https://localhost:8080/"
        },
        "id": "-cSfqWk3olgG",
        "outputId": "46687389-f8d6-4cb2-e8fd-00e3f9e87edc"
      },
      "execution_count": 36,
      "outputs": [
        {
          "output_type": "execute_result",
          "data": {
            "text/plain": [
              "tensor(3)"
            ]
          },
          "metadata": {},
          "execution_count": 36
        }
      ]
    },
    {
      "cell_type": "code",
      "source": [
        "## tensor indexing\n",
        "\n",
        "batch_size=10\n",
        "features=25\n",
        "x=torch.rand((batch_size,features))\n",
        "print(x[0,2:5])\n",
        "rows=torch.tensor((3,5))\n",
        "cols=torch.tensor((4,6))\n",
        "print(x[rows,cols])\n",
        "\n",
        "x=torch.arange(10)\n",
        "print(x[(x>2) & (x<8)])\n",
        "print(torch.where(x>5,x,x+2))\n"
      ],
      "metadata": {
        "colab": {
          "base_uri": "https://localhost:8080/"
        },
        "id": "G8yq3vigsWlq",
        "outputId": "bc6fe963-a9e1-46d7-fd34-279a8359bb1d"
      },
      "execution_count": 43,
      "outputs": [
        {
          "output_type": "stream",
          "name": "stdout",
          "text": [
            "tensor([0.9181, 0.7701, 0.9925])\n",
            "tensor([0.3730, 0.7973])\n",
            "tensor([3, 4, 5, 6, 7])\n",
            "tensor([2, 3, 4, 5, 6, 7, 6, 7, 8, 9])\n"
          ]
        }
      ]
    },
    {
      "cell_type": "code",
      "source": [
        "  x=torch.arange(9)\n",
        "  x1=x.view(3,3)\n",
        "  x2=x.reshape(3,3)\n",
        "  print(x2)           # they are approximately doing the same work\n",
        "  y=x2.t()\n",
        "  print(y)\n",
        "  y1=y.reshape(9)\n",
        "  print(y1)"
      ],
      "metadata": {
        "colab": {
          "base_uri": "https://localhost:8080/"
        },
        "id": "7tBCbnp7svrU",
        "outputId": "20259111-f9df-4764-8892-a46728f0fa6f"
      },
      "execution_count": 51,
      "outputs": [
        {
          "output_type": "stream",
          "name": "stdout",
          "text": [
            "tensor([[0, 1, 2],\n",
            "        [3, 4, 5],\n",
            "        [6, 7, 8]])\n",
            "tensor([[0, 3, 6],\n",
            "        [1, 4, 7],\n",
            "        [2, 5, 8]])\n",
            "tensor([0, 3, 6, 1, 4, 7, 2, 5, 8])\n"
          ]
        }
      ]
    },
    {
      "cell_type": "code",
      "source": [
        "batch=10\n",
        "x=torch.rand(batch,2,5)\n",
        "z=x.view(batch,-1)\n",
        "x=torch.arange(10)\n",
        "print(x.shape)\n",
        "print(x.unsqueeze(0).shape)\n",
        "print(x.unsqueeze(1).shape)"
      ],
      "metadata": {
        "colab": {
          "base_uri": "https://localhost:8080/"
        },
        "id": "_fIluGEeysUh",
        "outputId": "989f37d5-5321-4230-cd18-3b828525f4ab"
      },
      "execution_count": 59,
      "outputs": [
        {
          "output_type": "stream",
          "name": "stdout",
          "text": [
            "torch.Size([10])\n",
            "torch.Size([1, 10])\n",
            "torch.Size([10, 1])\n"
          ]
        }
      ]
    },
    {
      "cell_type": "markdown",
      "source": [
        "## creating a fully connected neural network"
      ],
      "metadata": {
        "id": "8wKsuwe01ySR"
      }
    },
    {
      "cell_type": "code",
      "source": [
        "device=torch.device('cuda' if torch.cuda.is_available() else 'cpu')\n",
        "print(f'using device: {device}')"
      ],
      "metadata": {
        "colab": {
          "base_uri": "https://localhost:8080/"
        },
        "id": "6L0BjKiyXoFV",
        "outputId": "23bb46c5-08d4-410f-963a-65d7a865c173"
      },
      "execution_count": 15,
      "outputs": [
        {
          "output_type": "stream",
          "name": "stdout",
          "text": [
            "using device: cpu\n"
          ]
        }
      ]
    },
    {
      "cell_type": "code",
      "source": [
        "## importing the requirements\n",
        "import torch\n",
        "import torch.nn as nn\n",
        "import torch.optim as optim\n",
        "import torch.nn.functional as F\n",
        "from torch.utils.data import Dataset, DataLoader\n",
        "import torchvision.transforms as transforms\n",
        "\n",
        "## processing with the data\n",
        "import pandas as pd\n",
        "df=pd.read_csv('/content/sample_data/mnist_train_small.csv')\n",
        "X=df.iloc[:,1:]\n",
        "y=df.iloc[:,0]\n",
        "from sklearn.model_selection import train_test_split\n",
        "X_train,X_test,y_train,y_test=train_test_split(X,y,test_size=0.2,random_state=42)\n",
        "X_train=X_train/255.0\n",
        "X_test=X_test/255.0\n",
        "\n",
        "# dataset class:\n",
        "class MnistDataset(Dataset):\n",
        "  def __init__(self,features,labels):\n",
        "    self.features=torch.tensor(features,dtype=torch.float32)\n",
        "    self.labels=torch.tensor(labels,dtype=torch.long)\n",
        "\n",
        "  def __len__(self):\n",
        "    return len (self.features)\n",
        "\n",
        "  def __getitem__(self, index):\n",
        "    return self.features[index],self.labels[index]\n",
        "\n",
        "# dataloader and dataset:\n",
        "train_dataset=MnistDataset(X_train.values,y_train.values)\n",
        "test_dataset=MnistDataset(X_test.values,y_test.values)\n",
        "\n",
        "train_loader=DataLoader(train_dataset,batch_size=42,shuffle=True)\n",
        "test_loader=DataLoader(test_dataset,batch_size=32,shuffle=False)\n",
        "\n",
        "\n"
      ],
      "metadata": {
        "id": "HNG4RScw0yJj"
      },
      "execution_count": 11,
      "outputs": []
    },
    {
      "cell_type": "code",
      "source": [
        "import pandas as pd\n",
        "df=pd.read_csv('/content/sample_data/mnist_train_small.csv')\n",
        "df.head()"
      ],
      "metadata": {
        "colab": {
          "base_uri": "https://localhost:8080/",
          "height": 255
        },
        "id": "fys4ObKSxrgB",
        "outputId": "448bc1ce-b0fe-46ba-bab6-df50793f4687"
      },
      "execution_count": 3,
      "outputs": [
        {
          "output_type": "execute_result",
          "data": {
            "text/plain": [
              "   6  0  0.1  0.2  0.3  0.4  0.5  0.6  0.7  0.8  ...  0.581  0.582  0.583  \\\n",
              "0  5  0    0    0    0    0    0    0    0    0  ...      0      0      0   \n",
              "1  7  0    0    0    0    0    0    0    0    0  ...      0      0      0   \n",
              "2  9  0    0    0    0    0    0    0    0    0  ...      0      0      0   \n",
              "3  5  0    0    0    0    0    0    0    0    0  ...      0      0      0   \n",
              "4  2  0    0    0    0    0    0    0    0    0  ...      0      0      0   \n",
              "\n",
              "   0.584  0.585  0.586  0.587  0.588  0.589  0.590  \n",
              "0      0      0      0      0      0      0      0  \n",
              "1      0      0      0      0      0      0      0  \n",
              "2      0      0      0      0      0      0      0  \n",
              "3      0      0      0      0      0      0      0  \n",
              "4      0      0      0      0      0      0      0  \n",
              "\n",
              "[5 rows x 785 columns]"
            ],
            "text/html": [
              "\n",
              "  <div id=\"df-9141f51b-2552-4ff8-a0f1-aaa9850c9070\" class=\"colab-df-container\">\n",
              "    <div>\n",
              "<style scoped>\n",
              "    .dataframe tbody tr th:only-of-type {\n",
              "        vertical-align: middle;\n",
              "    }\n",
              "\n",
              "    .dataframe tbody tr th {\n",
              "        vertical-align: top;\n",
              "    }\n",
              "\n",
              "    .dataframe thead th {\n",
              "        text-align: right;\n",
              "    }\n",
              "</style>\n",
              "<table border=\"1\" class=\"dataframe\">\n",
              "  <thead>\n",
              "    <tr style=\"text-align: right;\">\n",
              "      <th></th>\n",
              "      <th>6</th>\n",
              "      <th>0</th>\n",
              "      <th>0.1</th>\n",
              "      <th>0.2</th>\n",
              "      <th>0.3</th>\n",
              "      <th>0.4</th>\n",
              "      <th>0.5</th>\n",
              "      <th>0.6</th>\n",
              "      <th>0.7</th>\n",
              "      <th>0.8</th>\n",
              "      <th>...</th>\n",
              "      <th>0.581</th>\n",
              "      <th>0.582</th>\n",
              "      <th>0.583</th>\n",
              "      <th>0.584</th>\n",
              "      <th>0.585</th>\n",
              "      <th>0.586</th>\n",
              "      <th>0.587</th>\n",
              "      <th>0.588</th>\n",
              "      <th>0.589</th>\n",
              "      <th>0.590</th>\n",
              "    </tr>\n",
              "  </thead>\n",
              "  <tbody>\n",
              "    <tr>\n",
              "      <th>0</th>\n",
              "      <td>5</td>\n",
              "      <td>0</td>\n",
              "      <td>0</td>\n",
              "      <td>0</td>\n",
              "      <td>0</td>\n",
              "      <td>0</td>\n",
              "      <td>0</td>\n",
              "      <td>0</td>\n",
              "      <td>0</td>\n",
              "      <td>0</td>\n",
              "      <td>...</td>\n",
              "      <td>0</td>\n",
              "      <td>0</td>\n",
              "      <td>0</td>\n",
              "      <td>0</td>\n",
              "      <td>0</td>\n",
              "      <td>0</td>\n",
              "      <td>0</td>\n",
              "      <td>0</td>\n",
              "      <td>0</td>\n",
              "      <td>0</td>\n",
              "    </tr>\n",
              "    <tr>\n",
              "      <th>1</th>\n",
              "      <td>7</td>\n",
              "      <td>0</td>\n",
              "      <td>0</td>\n",
              "      <td>0</td>\n",
              "      <td>0</td>\n",
              "      <td>0</td>\n",
              "      <td>0</td>\n",
              "      <td>0</td>\n",
              "      <td>0</td>\n",
              "      <td>0</td>\n",
              "      <td>...</td>\n",
              "      <td>0</td>\n",
              "      <td>0</td>\n",
              "      <td>0</td>\n",
              "      <td>0</td>\n",
              "      <td>0</td>\n",
              "      <td>0</td>\n",
              "      <td>0</td>\n",
              "      <td>0</td>\n",
              "      <td>0</td>\n",
              "      <td>0</td>\n",
              "    </tr>\n",
              "    <tr>\n",
              "      <th>2</th>\n",
              "      <td>9</td>\n",
              "      <td>0</td>\n",
              "      <td>0</td>\n",
              "      <td>0</td>\n",
              "      <td>0</td>\n",
              "      <td>0</td>\n",
              "      <td>0</td>\n",
              "      <td>0</td>\n",
              "      <td>0</td>\n",
              "      <td>0</td>\n",
              "      <td>...</td>\n",
              "      <td>0</td>\n",
              "      <td>0</td>\n",
              "      <td>0</td>\n",
              "      <td>0</td>\n",
              "      <td>0</td>\n",
              "      <td>0</td>\n",
              "      <td>0</td>\n",
              "      <td>0</td>\n",
              "      <td>0</td>\n",
              "      <td>0</td>\n",
              "    </tr>\n",
              "    <tr>\n",
              "      <th>3</th>\n",
              "      <td>5</td>\n",
              "      <td>0</td>\n",
              "      <td>0</td>\n",
              "      <td>0</td>\n",
              "      <td>0</td>\n",
              "      <td>0</td>\n",
              "      <td>0</td>\n",
              "      <td>0</td>\n",
              "      <td>0</td>\n",
              "      <td>0</td>\n",
              "      <td>...</td>\n",
              "      <td>0</td>\n",
              "      <td>0</td>\n",
              "      <td>0</td>\n",
              "      <td>0</td>\n",
              "      <td>0</td>\n",
              "      <td>0</td>\n",
              "      <td>0</td>\n",
              "      <td>0</td>\n",
              "      <td>0</td>\n",
              "      <td>0</td>\n",
              "    </tr>\n",
              "    <tr>\n",
              "      <th>4</th>\n",
              "      <td>2</td>\n",
              "      <td>0</td>\n",
              "      <td>0</td>\n",
              "      <td>0</td>\n",
              "      <td>0</td>\n",
              "      <td>0</td>\n",
              "      <td>0</td>\n",
              "      <td>0</td>\n",
              "      <td>0</td>\n",
              "      <td>0</td>\n",
              "      <td>...</td>\n",
              "      <td>0</td>\n",
              "      <td>0</td>\n",
              "      <td>0</td>\n",
              "      <td>0</td>\n",
              "      <td>0</td>\n",
              "      <td>0</td>\n",
              "      <td>0</td>\n",
              "      <td>0</td>\n",
              "      <td>0</td>\n",
              "      <td>0</td>\n",
              "    </tr>\n",
              "  </tbody>\n",
              "</table>\n",
              "<p>5 rows × 785 columns</p>\n",
              "</div>\n",
              "    <div class=\"colab-df-buttons\">\n",
              "\n",
              "  <div class=\"colab-df-container\">\n",
              "    <button class=\"colab-df-convert\" onclick=\"convertToInteractive('df-9141f51b-2552-4ff8-a0f1-aaa9850c9070')\"\n",
              "            title=\"Convert this dataframe to an interactive table.\"\n",
              "            style=\"display:none;\">\n",
              "\n",
              "  <svg xmlns=\"http://www.w3.org/2000/svg\" height=\"24px\" viewBox=\"0 -960 960 960\">\n",
              "    <path d=\"M120-120v-720h720v720H120Zm60-500h600v-160H180v160Zm220 220h160v-160H400v160Zm0 220h160v-160H400v160ZM180-400h160v-160H180v160Zm440 0h160v-160H620v160ZM180-180h160v-160H180v160Zm440 0h160v-160H620v160Z\"/>\n",
              "  </svg>\n",
              "    </button>\n",
              "\n",
              "  <style>\n",
              "    .colab-df-container {\n",
              "      display:flex;\n",
              "      gap: 12px;\n",
              "    }\n",
              "\n",
              "    .colab-df-convert {\n",
              "      background-color: #E8F0FE;\n",
              "      border: none;\n",
              "      border-radius: 50%;\n",
              "      cursor: pointer;\n",
              "      display: none;\n",
              "      fill: #1967D2;\n",
              "      height: 32px;\n",
              "      padding: 0 0 0 0;\n",
              "      width: 32px;\n",
              "    }\n",
              "\n",
              "    .colab-df-convert:hover {\n",
              "      background-color: #E2EBFA;\n",
              "      box-shadow: 0px 1px 2px rgba(60, 64, 67, 0.3), 0px 1px 3px 1px rgba(60, 64, 67, 0.15);\n",
              "      fill: #174EA6;\n",
              "    }\n",
              "\n",
              "    .colab-df-buttons div {\n",
              "      margin-bottom: 4px;\n",
              "    }\n",
              "\n",
              "    [theme=dark] .colab-df-convert {\n",
              "      background-color: #3B4455;\n",
              "      fill: #D2E3FC;\n",
              "    }\n",
              "\n",
              "    [theme=dark] .colab-df-convert:hover {\n",
              "      background-color: #434B5C;\n",
              "      box-shadow: 0px 1px 3px 1px rgba(0, 0, 0, 0.15);\n",
              "      filter: drop-shadow(0px 1px 2px rgba(0, 0, 0, 0.3));\n",
              "      fill: #FFFFFF;\n",
              "    }\n",
              "  </style>\n",
              "\n",
              "    <script>\n",
              "      const buttonEl =\n",
              "        document.querySelector('#df-9141f51b-2552-4ff8-a0f1-aaa9850c9070 button.colab-df-convert');\n",
              "      buttonEl.style.display =\n",
              "        google.colab.kernel.accessAllowed ? 'block' : 'none';\n",
              "\n",
              "      async function convertToInteractive(key) {\n",
              "        const element = document.querySelector('#df-9141f51b-2552-4ff8-a0f1-aaa9850c9070');\n",
              "        const dataTable =\n",
              "          await google.colab.kernel.invokeFunction('convertToInteractive',\n",
              "                                                    [key], {});\n",
              "        if (!dataTable) return;\n",
              "\n",
              "        const docLinkHtml = 'Like what you see? Visit the ' +\n",
              "          '<a target=\"_blank\" href=https://colab.research.google.com/notebooks/data_table.ipynb>data table notebook</a>'\n",
              "          + ' to learn more about interactive tables.';\n",
              "        element.innerHTML = '';\n",
              "        dataTable['output_type'] = 'display_data';\n",
              "        await google.colab.output.renderOutput(dataTable, element);\n",
              "        const docLink = document.createElement('div');\n",
              "        docLink.innerHTML = docLinkHtml;\n",
              "        element.appendChild(docLink);\n",
              "      }\n",
              "    </script>\n",
              "  </div>\n",
              "\n",
              "\n",
              "    <div id=\"df-1db96517-beb1-412c-9672-0d74015b3886\">\n",
              "      <button class=\"colab-df-quickchart\" onclick=\"quickchart('df-1db96517-beb1-412c-9672-0d74015b3886')\"\n",
              "                title=\"Suggest charts\"\n",
              "                style=\"display:none;\">\n",
              "\n",
              "<svg xmlns=\"http://www.w3.org/2000/svg\" height=\"24px\"viewBox=\"0 0 24 24\"\n",
              "     width=\"24px\">\n",
              "    <g>\n",
              "        <path d=\"M19 3H5c-1.1 0-2 .9-2 2v14c0 1.1.9 2 2 2h14c1.1 0 2-.9 2-2V5c0-1.1-.9-2-2-2zM9 17H7v-7h2v7zm4 0h-2V7h2v10zm4 0h-2v-4h2v4z\"/>\n",
              "    </g>\n",
              "</svg>\n",
              "      </button>\n",
              "\n",
              "<style>\n",
              "  .colab-df-quickchart {\n",
              "      --bg-color: #E8F0FE;\n",
              "      --fill-color: #1967D2;\n",
              "      --hover-bg-color: #E2EBFA;\n",
              "      --hover-fill-color: #174EA6;\n",
              "      --disabled-fill-color: #AAA;\n",
              "      --disabled-bg-color: #DDD;\n",
              "  }\n",
              "\n",
              "  [theme=dark] .colab-df-quickchart {\n",
              "      --bg-color: #3B4455;\n",
              "      --fill-color: #D2E3FC;\n",
              "      --hover-bg-color: #434B5C;\n",
              "      --hover-fill-color: #FFFFFF;\n",
              "      --disabled-bg-color: #3B4455;\n",
              "      --disabled-fill-color: #666;\n",
              "  }\n",
              "\n",
              "  .colab-df-quickchart {\n",
              "    background-color: var(--bg-color);\n",
              "    border: none;\n",
              "    border-radius: 50%;\n",
              "    cursor: pointer;\n",
              "    display: none;\n",
              "    fill: var(--fill-color);\n",
              "    height: 32px;\n",
              "    padding: 0;\n",
              "    width: 32px;\n",
              "  }\n",
              "\n",
              "  .colab-df-quickchart:hover {\n",
              "    background-color: var(--hover-bg-color);\n",
              "    box-shadow: 0 1px 2px rgba(60, 64, 67, 0.3), 0 1px 3px 1px rgba(60, 64, 67, 0.15);\n",
              "    fill: var(--button-hover-fill-color);\n",
              "  }\n",
              "\n",
              "  .colab-df-quickchart-complete:disabled,\n",
              "  .colab-df-quickchart-complete:disabled:hover {\n",
              "    background-color: var(--disabled-bg-color);\n",
              "    fill: var(--disabled-fill-color);\n",
              "    box-shadow: none;\n",
              "  }\n",
              "\n",
              "  .colab-df-spinner {\n",
              "    border: 2px solid var(--fill-color);\n",
              "    border-color: transparent;\n",
              "    border-bottom-color: var(--fill-color);\n",
              "    animation:\n",
              "      spin 1s steps(1) infinite;\n",
              "  }\n",
              "\n",
              "  @keyframes spin {\n",
              "    0% {\n",
              "      border-color: transparent;\n",
              "      border-bottom-color: var(--fill-color);\n",
              "      border-left-color: var(--fill-color);\n",
              "    }\n",
              "    20% {\n",
              "      border-color: transparent;\n",
              "      border-left-color: var(--fill-color);\n",
              "      border-top-color: var(--fill-color);\n",
              "    }\n",
              "    30% {\n",
              "      border-color: transparent;\n",
              "      border-left-color: var(--fill-color);\n",
              "      border-top-color: var(--fill-color);\n",
              "      border-right-color: var(--fill-color);\n",
              "    }\n",
              "    40% {\n",
              "      border-color: transparent;\n",
              "      border-right-color: var(--fill-color);\n",
              "      border-top-color: var(--fill-color);\n",
              "    }\n",
              "    60% {\n",
              "      border-color: transparent;\n",
              "      border-right-color: var(--fill-color);\n",
              "    }\n",
              "    80% {\n",
              "      border-color: transparent;\n",
              "      border-right-color: var(--fill-color);\n",
              "      border-bottom-color: var(--fill-color);\n",
              "    }\n",
              "    90% {\n",
              "      border-color: transparent;\n",
              "      border-bottom-color: var(--fill-color);\n",
              "    }\n",
              "  }\n",
              "</style>\n",
              "\n",
              "      <script>\n",
              "        async function quickchart(key) {\n",
              "          const quickchartButtonEl =\n",
              "            document.querySelector('#' + key + ' button');\n",
              "          quickchartButtonEl.disabled = true;  // To prevent multiple clicks.\n",
              "          quickchartButtonEl.classList.add('colab-df-spinner');\n",
              "          try {\n",
              "            const charts = await google.colab.kernel.invokeFunction(\n",
              "                'suggestCharts', [key], {});\n",
              "          } catch (error) {\n",
              "            console.error('Error during call to suggestCharts:', error);\n",
              "          }\n",
              "          quickchartButtonEl.classList.remove('colab-df-spinner');\n",
              "          quickchartButtonEl.classList.add('colab-df-quickchart-complete');\n",
              "        }\n",
              "        (() => {\n",
              "          let quickchartButtonEl =\n",
              "            document.querySelector('#df-1db96517-beb1-412c-9672-0d74015b3886 button');\n",
              "          quickchartButtonEl.style.display =\n",
              "            google.colab.kernel.accessAllowed ? 'block' : 'none';\n",
              "        })();\n",
              "      </script>\n",
              "    </div>\n",
              "\n",
              "    </div>\n",
              "  </div>\n"
            ],
            "application/vnd.google.colaboratory.intrinsic+json": {
              "type": "dataframe",
              "variable_name": "df"
            }
          },
          "metadata": {},
          "execution_count": 3
        }
      ]
    },
    {
      "cell_type": "code",
      "source": [
        "import matplotlib.pyplot as plt\n",
        "# Create a 4x4 grid of images ## copied code from campus x vedio\n",
        "fig, axes = plt.subplots(4, 4, figsize=(10, 10))\n",
        "fig.suptitle(\"First 16 Images\", fontsize=16)\n",
        "\n",
        "# Plot the first 16 images from the dataset\n",
        "for i, ax in enumerate(axes.flat):\n",
        "    img = df.iloc[i, 1:].values.reshape(28, 28)  # Reshape to 28x28\n",
        "    ax.imshow(img)  # Display in grayscale\n",
        "    ax.axis('off')  # Remove axis for a cleaner look\n",
        "    ax.set_title(f\"Label: {df.iloc[i, 0]}\")  # Show the label\n",
        "\n",
        "plt.tight_layout(rect=[0, 0, 1, 0.96])  # Adjust layout to fit the title\n",
        "plt.show()"
      ],
      "metadata": {
        "colab": {
          "base_uri": "https://localhost:8080/",
          "height": 671
        },
        "id": "NZ9xJwP6zwDO",
        "outputId": "df4ecb8c-df33-4d6b-f1b5-bb9e176d6cac"
      },
      "execution_count": 5,
      "outputs": [
        {
          "output_type": "display_data",
          "data": {
            "text/plain": [
              "<Figure size 1000x1000 with 16 Axes>"
            ],
            "image/png": "[encoded data removed]"
          },
          "metadata": {}
        }
      ]
    },
    {
      "cell_type": "code",
      "source": [
        "## making the neural Network:\n",
        "class NeuralNetwork(nn.Module):\n",
        "  def __init__(self,num_features):\n",
        "    super().__init__()\n",
        "    self.model=nn.Sequential(\n",
        "        nn.Linear(num_features,128), ## hidden layer1\n",
        "        nn.ReLU(),\n",
        "        nn.Linear(128,64),## hidden layer2\n",
        "        nn.ReLU(),\n",
        "        nn.Linear(64,10)\n",
        "    )\n",
        "  def forward(self,x):\n",
        "    return self.model(x)"
      ],
      "metadata": {
        "id": "9RPGsMbB0HAD"
      },
      "execution_count": 13,
      "outputs": []
    },
    {
      "cell_type": "code",
      "source": [
        "epochs=100\n",
        "learning_rate=0.01\n",
        "\n",
        "model=NeuralNetwork(X_train.values.shape[1])\n",
        "model.to(device)\n",
        "criterion=nn.CrossEntropyLoss()\n",
        "optimizer=optim.Adam(model.parameters(),lr=learning_rate)\n",
        "\n",
        "## training loop:\n",
        "for epoch in range (epochs):\n",
        "  total_epoch_loss=0\n",
        "  for batch_features,batch_labels in train_loader:\n",
        "    batch_features,batch_labels=batch_features.to(device),batch_labels.to(device)\n",
        "    outputs=model(batch_features)\n",
        "    loss=criterion(outputs,batch_labels)\n",
        "    optimizer.zero_grad()\n",
        "    loss.backward()\n",
        "    optimizer.step()\n",
        "    total_epoch_loss+=loss.item()\n",
        "\n",
        "  avg_loss=total_epoch_loss/len(train_loader)\n",
        "  print(f'Epoch:{epoch+1}, Loss:{avg_loss}')"
      ],
      "metadata": {
        "colab": {
          "base_uri": "https://localhost:8080/"
        },
        "id": "SHIvwYiL0VjQ",
        "outputId": "275afdcf-f64b-4d59-be29-2833bc43919f"
      },
      "execution_count": 16,
      "outputs": [
        {
          "output_type": "stream",
          "name": "stdout",
          "text": [
            "Epoch:1, Loss:0.38529966050010966\n",
            "Epoch:2, Loss:0.19059828962101613\n",
            "Epoch:3, Loss:0.15497457470654405\n",
            "Epoch:4, Loss:0.13729665003377173\n",
            "Epoch:5, Loss:0.13707863317718216\n",
            "Epoch:6, Loss:0.11930381008616363\n",
            "Epoch:7, Loss:0.10379583491599113\n",
            "Epoch:8, Loss:0.08927925113906957\n",
            "Epoch:9, Loss:0.08481980814812998\n",
            "Epoch:10, Loss:0.10420654900326196\n",
            "Epoch:11, Loss:0.07161489200143598\n",
            "Epoch:12, Loss:0.10209555462922809\n",
            "Epoch:13, Loss:0.09435542544039396\n",
            "Epoch:14, Loss:0.08194984532349937\n",
            "Epoch:15, Loss:0.06689865997236308\n",
            "Epoch:16, Loss:0.06594485304549738\n",
            "Epoch:17, Loss:0.06255031101889294\n",
            "Epoch:18, Loss:0.05877823192278257\n",
            "Epoch:19, Loss:0.04337042950542715\n",
            "Epoch:20, Loss:0.09700846568899266\n",
            "Epoch:21, Loss:0.08626400768494195\n",
            "Epoch:22, Loss:0.08328268835844493\n",
            "Epoch:23, Loss:0.0565498291742791\n",
            "Epoch:24, Loss:0.04620541747744621\n",
            "Epoch:25, Loss:0.03548130086929015\n",
            "Epoch:26, Loss:0.056177068882364116\n",
            "Epoch:27, Loss:0.06851585578306409\n",
            "Epoch:28, Loss:0.07177071552327115\n",
            "Epoch:29, Loss:0.046321655276435475\n",
            "Epoch:30, Loss:0.04929700621343621\n",
            "Epoch:31, Loss:0.041476314636177083\n",
            "Epoch:32, Loss:0.06015227513618936\n",
            "Epoch:33, Loss:0.05495574351271744\n",
            "Epoch:34, Loss:0.042940023658943435\n",
            "Epoch:35, Loss:0.03829695519335818\n",
            "Epoch:36, Loss:0.05442184164951475\n",
            "Epoch:37, Loss:0.09066751225144917\n",
            "Epoch:38, Loss:0.07072526379003076\n",
            "Epoch:39, Loss:0.047168636450552824\n",
            "Epoch:40, Loss:0.04805921969788067\n",
            "Epoch:41, Loss:0.036947209049808964\n",
            "Epoch:42, Loss:0.03044662028346674\n",
            "Epoch:43, Loss:0.06301562458757455\n",
            "Epoch:44, Loss:0.06114746764921985\n",
            "Epoch:45, Loss:0.08644944488428441\n",
            "Epoch:46, Loss:0.04939254801295143\n",
            "Epoch:47, Loss:0.04911959719762288\n",
            "Epoch:48, Loss:0.04879864242893294\n",
            "Epoch:49, Loss:0.04411828514188212\n",
            "Epoch:50, Loss:0.0234245947504762\n",
            "Epoch:51, Loss:0.04350433441635316\n",
            "Epoch:52, Loss:0.06038989967177423\n",
            "Epoch:53, Loss:0.048157020360066305\n",
            "Epoch:54, Loss:0.02534660189442043\n",
            "Epoch:55, Loss:0.04290417497199005\n",
            "Epoch:56, Loss:0.06962553439645046\n",
            "Epoch:57, Loss:0.0576537549872368\n",
            "Epoch:58, Loss:0.025777772769765124\n",
            "Epoch:59, Loss:0.036754561955856205\n",
            "Epoch:60, Loss:0.051829405115180444\n",
            "Epoch:61, Loss:0.0367038745724548\n",
            "Epoch:62, Loss:0.04198494255823238\n",
            "Epoch:63, Loss:0.04337264560275259\n",
            "Epoch:64, Loss:0.0615742559011371\n",
            "Epoch:65, Loss:0.048068206008340664\n",
            "Epoch:66, Loss:0.04724845680817471\n",
            "Epoch:67, Loss:0.039474704183096766\n",
            "Epoch:68, Loss:0.029988095441337022\n",
            "Epoch:69, Loss:0.054884130280888156\n",
            "Epoch:70, Loss:0.051067051536433254\n",
            "Epoch:71, Loss:0.02656024449984672\n",
            "Epoch:72, Loss:0.04784430429916821\n",
            "Epoch:73, Loss:0.05253010677622576\n",
            "Epoch:74, Loss:0.06434329799287396\n",
            "Epoch:75, Loss:0.05116267872400343\n",
            "Epoch:76, Loss:0.042374929738457676\n",
            "Epoch:77, Loss:0.013363986818213972\n",
            "Epoch:78, Loss:0.005337940653026506\n",
            "Epoch:79, Loss:0.05047916406517292\n",
            "Epoch:80, Loss:0.046393186110984995\n",
            "Epoch:81, Loss:0.06329386377942835\n",
            "Epoch:82, Loss:0.06128859948871866\n",
            "Epoch:83, Loss:0.05487005649470588\n",
            "Epoch:84, Loss:0.036907233947766134\n",
            "Epoch:85, Loss:0.03718136910245404\n",
            "Epoch:86, Loss:0.034960604459033665\n",
            "Epoch:87, Loss:0.073012036219664\n",
            "Epoch:88, Loss:0.05290515188382125\n",
            "Epoch:89, Loss:0.04277436460641728\n",
            "Epoch:90, Loss:0.03975166509723027\n",
            "Epoch:91, Loss:0.025035980402696965\n",
            "Epoch:92, Loss:0.030435760329382673\n",
            "Epoch:93, Loss:0.05905978396922284\n",
            "Epoch:94, Loss:0.04674301554851787\n",
            "Epoch:95, Loss:0.04799384741873403\n",
            "Epoch:96, Loss:0.024933113421365408\n",
            "Epoch:97, Loss:0.022301600485347055\n",
            "Epoch:98, Loss:0.02183326327105721\n",
            "Epoch:99, Loss:0.06278716573829336\n",
            "Epoch:100, Loss:0.0601709047970718\n"
          ]
        }
      ]
    },
    {
      "cell_type": "code",
      "source": [
        "def check_accuracy(loader,model):\n",
        "  correct=0\n",
        "  total=0\n",
        "  model.eval()\n",
        "\n",
        "  with torch.no_grad():\n",
        "    for x, y in loader:\n",
        "      x=x.to(device)\n",
        "      y=y.to(device)\n",
        "      outputs=model(x)\n",
        "      _,predicted=torch.max(outputs.data,1)\n",
        "      total=total+y.size(0)\n",
        "      correct=correct+(predicted==y).sum().item()\n",
        "\n",
        "    accuracy=correct/total\n",
        "    print(f\"accuracy: \", accuracy)\n",
        "\n",
        "\n"
      ],
      "metadata": {
        "id": "27r7EzhF-ww2"
      },
      "execution_count": 21,
      "outputs": []
    },
    {
      "cell_type": "code",
      "source": [
        "check_accuracy(test_loader,model)"
      ],
      "metadata": {
        "colab": {
          "base_uri": "https://localhost:8080/"
        },
        "id": "o8OVAnHiKMfi",
        "outputId": "be6a3f74-64d9-45cd-a358-5504dad077e4"
      },
      "execution_count": 22,
      "outputs": [
        {
          "output_type": "stream",
          "name": "stdout",
          "text": [
            "accuracy:  0.9445\n"
          ]
        }
      ]
    },
    {
      "cell_type": "code",
      "source": [
        "check_accuracy(train_loader,model)"
      ],
      "metadata": {
        "colab": {
          "base_uri": "https://localhost:8080/"
        },
        "id": "Kn3yWEkecyqc",
        "outputId": "4a657b33-ab72-4cc7-889d-7f50ed44a898"
      },
      "execution_count": 23,
      "outputs": [
        {
          "output_type": "stream",
          "name": "stdout",
          "text": [
            "accuracy:  0.9889993124570285\n"
          ]
        }
      ]
    },
    {
      "cell_type": "code",
      "source": [],
      "metadata": {
        "id": "Uq_---endTmS"
      },
      "execution_count": null,
      "outputs": []
    }
  ]
}