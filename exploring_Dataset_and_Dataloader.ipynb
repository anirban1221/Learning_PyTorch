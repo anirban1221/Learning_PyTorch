{
  "nbformat": 4,
  "nbformat_minor": 0,
  "metadata": {
    "colab": {
      "provenance": [],
      "authorship_tag": "ABX9TyMvsC82IYKCf9mxE0ijdIt+",
      "include_colab_link": true
    },
    "kernelspec": {
      "name": "python3",
      "display_name": "Python 3"
    },
    "language_info": {
      "name": "python"
    }
  },
  "cells": [
    {
      "cell_type": "markdown",
      "metadata": {
        "id": "view-in-github",
        "colab_type": "text"
      },
      "source": [
        "<a href=\"https://colab.research.google.com/github/anirban1221/Learning_PyTorch/blob/main/exploring_Dataset_and_Dataloader.ipynb\" target=\"_parent\"><img src=\"https://colab.research.google.com/assets/colab-badge.svg\" alt=\"Open In Colab\"/></a>"
      ]
    },
    {
      "cell_type": "code",
      "execution_count": 1,
      "metadata": {
        "id": "Ly-dL88wjcfc"
      },
      "outputs": [],
      "source": [
        "from sklearn.datasets import make_classification\n",
        "X, y = make_classification(\n",
        "    n_samples=10,       # Number of samples\n",
        "    n_features=2,       # Number of features\n",
        "    n_informative=2,    # Number of informative features\n",
        "    n_redundant=0,      # Number of redundant features\n",
        "    n_classes=2,        # Number of classes\n",
        "    random_state=42     # For reproducibility\n",
        ")"
      ]
    },
    {
      "cell_type": "code",
      "source": [
        "import torch\n",
        "X_tensor=torch.tensor(X,dtype=torch.float32)\n",
        "y_tensor=torch.tensor(y,dtype=torch.long)\n"
      ],
      "metadata": {
        "id": "tSMWqYJ8vk3_"
      },
      "execution_count": 3,
      "outputs": []
    },
    {
      "cell_type": "code",
      "source": [
        "y_tensor"
      ],
      "metadata": {
        "colab": {
          "base_uri": "https://localhost:8080/"
        },
        "id": "nlkp7dY-fzsW",
        "outputId": "38d3e7cd-c71d-48bd-ebc5-8c593b7c1e3f"
      },
      "execution_count": 5,
      "outputs": [
        {
          "output_type": "execute_result",
          "data": {
            "text/plain": [
              "tensor([1, 0, 0, 0, 0, 1, 1, 1, 1, 0])"
            ]
          },
          "metadata": {},
          "execution_count": 5
        }
      ]
    },
    {
      "cell_type": "code",
      "source": [
        "from torch.utils.data import Dataset,DataLoader\n",
        "\n",
        "class CustomDataset(Dataset):\n",
        "  def __init__(self,features,labels):\n",
        "    self.features=features\n",
        "    self.labels=labels\n",
        "\n",
        "  def __len__(self):\n",
        "    return self.features.shape[0]\n",
        "\n",
        "  def __getitem__(self,index):\n",
        "\n",
        "    return self.features[index],self.labels[index]"
      ],
      "metadata": {
        "id": "gLGvJlmZgBuF"
      },
      "execution_count": 17,
      "outputs": []
    },
    {
      "cell_type": "code",
      "source": [
        "dataset=CustomDataset(X,y)"
      ],
      "metadata": {
        "id": "9nBRBE6ThB-j"
      },
      "execution_count": 18,
      "outputs": []
    },
    {
      "cell_type": "code",
      "source": [
        "dataset[2]"
      ],
      "metadata": {
        "colab": {
          "base_uri": "https://localhost:8080/"
        },
        "id": "Bm7koaARhDhI",
        "outputId": "4a2be37d-abae-4c31-db99-c5adbc3f36ee"
      },
      "execution_count": 19,
      "outputs": [
        {
          "output_type": "execute_result",
          "data": {
            "text/plain": [
              "(array([-2.8953973 ,  1.97686236]), np.int64(0))"
            ]
          },
          "metadata": {},
          "execution_count": 19
        }
      ]
    },
    {
      "cell_type": "code",
      "source": [
        "dataloader=DataLoader(dataset,batch_size=2,shuffle=True)"
      ],
      "metadata": {
        "id": "7xCboM7bhq1W"
      },
      "execution_count": 20,
      "outputs": []
    },
    {
      "cell_type": "code",
      "source": [
        "for batch_features, batch_labels in dataloader:\n",
        "  print(batch_features)\n",
        "  print(batch_labels)"
      ],
      "metadata": {
        "colab": {
          "base_uri": "https://localhost:8080/"
        },
        "id": "3LfglCOSh3cU",
        "outputId": "3125f78f-430f-43b1-de2f-e2af4ff56bcf"
      },
      "execution_count": 21,
      "outputs": [
        {
          "output_type": "stream",
          "name": "stdout",
          "text": [
            "tensor([[-1.9629, -0.9923],\n",
            "        [-1.1402, -0.8388]], dtype=torch.float64)\n",
            "tensor([0, 0])\n",
            "tensor([[ 1.0683, -0.9701],\n",
            "        [-0.7206, -0.9606]], dtype=torch.float64)\n",
            "tensor([1, 0])\n",
            "tensor([[-0.9382, -0.5430],\n",
            "        [-0.5872, -1.9717]], dtype=torch.float64)\n",
            "tensor([1, 0])\n",
            "tensor([[ 1.7273, -1.1858],\n",
            "        [-2.8954,  1.9769]], dtype=torch.float64)\n",
            "tensor([1, 0])\n",
            "tensor([[1.8997, 0.8344],\n",
            "        [1.7774, 1.5116]], dtype=torch.float64)\n",
            "tensor([1, 1])\n"
          ]
        }
      ]
    },
    {
      "cell_type": "code",
      "source": [
        "## parallelization of work by using workers in pytorch\n",
        "## using samplers to sample the batches\n",
        "## uaing num_workers\n",
        "\n",
        "# using drop_last-when last batch is tooo small than the other batches then\n",
        "## uf required then we drop the last batch"
      ],
      "metadata": {
        "id": "TTlUsBjPi0-r"
      },
      "execution_count": null,
      "outputs": []
    },
    {
      "cell_type": "code",
      "source": [
        "## improving the breast cancer pipeline using dataset and dataloader class\n",
        "\n",
        "import numpy as np\n",
        "import pandas as pd\n",
        "import torch\n",
        "from sklearn.model_selection import train_test_split\n",
        "from sklearn.preprocessing import StandardScaler\n",
        "from sklearn.preprocessing import LabelEncoder\n",
        "\n",
        "df = pd.read_csv('https://raw.githubusercontent.com/gscdit/Breast-Cancer-Detection/refs/heads/master/data.csv')\n",
        "\n",
        "df.drop(columns=['id', 'Unnamed: 32'], inplace= True)\n",
        "X=df.iloc[:,1:]\n",
        "y=df.iloc[:,0]\n",
        "X_train, X_test, y_train, y_test = train_test_split(X, y, random_state=42,test_size=0.2)\n",
        "\n",
        "scaler = StandardScaler()\n",
        "X_train = scaler.fit_transform(X_train)\n",
        "X_test = scaler.transform(X_test)\n",
        "encoder = LabelEncoder()\n",
        "y_train = encoder.fit_transform(y_train)\n",
        "y_test = encoder.transform(y_test)\n",
        "\n",
        "X_train_tensor = torch.from_numpy(X_train.astype(np.float32))\n",
        "X_test_tensor = torch.from_numpy(X_test.astype(np.float32))\n",
        "y_train_tensor = torch.from_numpy(y_train.astype(np.float32))\n",
        "y_test_tensor = torch.from_numpy(y_test.astype(np.float32))"
      ],
      "metadata": {
        "id": "IZrGheR1pZ0b"
      },
      "execution_count": 26,
      "outputs": []
    },
    {
      "cell_type": "code",
      "source": [
        "from torch.utils.data import DataLoader, Dataset\n",
        "class CustomDataset(Dataset):\n",
        "  def __init__(self,features,labels):\n",
        "    self.features=features\n",
        "    self.labels=labels\n",
        "\n",
        "  def __len__(self):\n",
        "    return self.features.shape[0]\n",
        "\n",
        "  def __getitem__(self,index):\n",
        "    return self.features[index], self.labels[index]"
      ],
      "metadata": {
        "id": "1HB32KSJr9Q5"
      },
      "execution_count": 31,
      "outputs": []
    },
    {
      "cell_type": "code",
      "source": [
        "train_dataset=CustomDataset(X_train_tensor,y_train_tensor)\n",
        "test_dataset=CustomDataset(X_test_tensor,y_train_tensor)\n"
      ],
      "metadata": {
        "id": "0AiKS1j0tEEc"
      },
      "execution_count": 32,
      "outputs": []
    },
    {
      "cell_type": "code",
      "source": [
        "train_loader=DataLoader(train_dataset,batch_size=32,shuffle=True)\n",
        "test_loader=DataLoader(test_dataset,batch_size=32,shuffle=True)"
      ],
      "metadata": {
        "id": "D0c3YNfitmAP"
      },
      "execution_count": 33,
      "outputs": []
    },
    {
      "cell_type": "code",
      "source": [
        "import torch.nn as nn\n",
        "\n",
        "\n",
        "class NeuralNetwork(nn.Module):\n",
        "\n",
        "  def __init__(self, num_features):\n",
        "    super().__init__()\n",
        "    self.linear=nn.Linear(num_features, 1)\n",
        "    self.sigmoid=nn.Sigmoid()\n",
        "\n",
        "  def forward(self,features):\n",
        "    out=self.linear(features)\n",
        "    out=self.sigmoid(out)\n",
        "    return out\n",
        "\n",
        "  def loss_function(self,y_pred,y):\n",
        "    epsilon=1e-7\n",
        "    y_pred=torch.clamp(y_pred,epsilon,1-epsilon)\n",
        "    loss=-(y_train_tensor*torch.log(y_pred)+(1-y_train_tensor)*torch.log(1-y_pred)).mean()\n",
        "    return loss"
      ],
      "metadata": {
        "id": "PLy4DyYDt4a7"
      },
      "execution_count": 34,
      "outputs": []
    },
    {
      "cell_type": "code",
      "source": [
        "learning_rate=0.1\n",
        "epochs=25"
      ],
      "metadata": {
        "id": "F9Hc8y7LuWiO"
      },
      "execution_count": 35,
      "outputs": []
    },
    {
      "cell_type": "code",
      "source": [
        "model=NeuralNetwork(X_train_tensor.shape[1])\n",
        "optimizer=torch.optim.SGD(model.parameters(),lr=learning_rate)\n",
        "loss_function=nn.BCELoss()"
      ],
      "metadata": {
        "id": "OTP-zSH4uYUP"
      },
      "execution_count": 37,
      "outputs": []
    },
    {
      "cell_type": "code",
      "source": [
        "## taining_pipeline\n",
        "\n",
        "for epoch in range(epochs):\n",
        "  for batch_features, batch_labels in train_loader:\n",
        "    y_pred =model(batch_features)\n",
        "    loss=loss_function(y_pred,batch_labels.reshape(-1,1))\n",
        "    optimizer.zero_grad()\n",
        "    loss.backward()\n",
        "    optimizer.step()\n",
        "\n",
        "  print(f'Epoch: {epoch+1}, Loss: {loss.item()}')"
      ],
      "metadata": {
        "colab": {
          "base_uri": "https://localhost:8080/"
        },
        "id": "awjfinaGuaNt",
        "outputId": "cf8a317a-481f-4df1-ca5f-b7550381d274"
      },
      "execution_count": 38,
      "outputs": [
        {
          "output_type": "stream",
          "name": "stdout",
          "text": [
            "Epoch: 1, Loss: 0.27292436361312866\n",
            "Epoch: 2, Loss: 0.13215091824531555\n",
            "Epoch: 3, Loss: 0.1509459912776947\n",
            "Epoch: 4, Loss: 0.12025129795074463\n",
            "Epoch: 5, Loss: 0.07564710825681686\n",
            "Epoch: 6, Loss: 0.043471984565258026\n",
            "Epoch: 7, Loss: 0.1943916529417038\n",
            "Epoch: 8, Loss: 0.05381624028086662\n",
            "Epoch: 9, Loss: 0.07553450018167496\n",
            "Epoch: 10, Loss: 0.07878528535366058\n",
            "Epoch: 11, Loss: 0.03829490393400192\n",
            "Epoch: 12, Loss: 0.09634768217802048\n",
            "Epoch: 13, Loss: 0.1193113923072815\n",
            "Epoch: 14, Loss: 0.10041489452123642\n",
            "Epoch: 15, Loss: 0.1525832861661911\n",
            "Epoch: 16, Loss: 0.004809085745364428\n",
            "Epoch: 17, Loss: 0.03569712117314339\n",
            "Epoch: 18, Loss: 0.16428633034229279\n",
            "Epoch: 19, Loss: 0.021954627707600594\n",
            "Epoch: 20, Loss: 0.029906338080763817\n",
            "Epoch: 21, Loss: 0.15545041859149933\n",
            "Epoch: 22, Loss: 0.03519034385681152\n",
            "Epoch: 23, Loss: 0.1325482577085495\n",
            "Epoch: 24, Loss: 0.006034291349351406\n",
            "Epoch: 25, Loss: 0.04661354422569275\n"
          ]
        }
      ]
    },
    {
      "cell_type": "code",
      "source": [
        "## evaluating the model\n",
        "with torch.no_grad():\n",
        "  y_pred = model.forward(X_test_tensor)\n",
        "  y_pred = (y_pred > 0.6).float()"
      ],
      "metadata": {
        "id": "Lexq6jJ1v_LE"
      },
      "execution_count": 39,
      "outputs": []
    },
    {
      "cell_type": "code",
      "source": [
        "from sklearn.metrics import accuracy_score\n",
        "accuracy_score(y_test_tensor,y_pred)"
      ],
      "metadata": {
        "colab": {
          "base_uri": "https://localhost:8080/"
        },
        "id": "fWTd7J4iwCup",
        "outputId": "c148a225-9e16-4c0b-eba1-80b67cc3ddf4"
      },
      "execution_count": 40,
      "outputs": [
        {
          "output_type": "execute_result",
          "data": {
            "text/plain": [
              "0.9824561403508771"
            ]
          },
          "metadata": {},
          "execution_count": 40
        }
      ]
    },
    {
      "cell_type": "code",
      "source": [],
      "metadata": {
        "id": "532fz-sQwEIS"
      },
      "execution_count": null,
      "outputs": []
    }
  ]
}